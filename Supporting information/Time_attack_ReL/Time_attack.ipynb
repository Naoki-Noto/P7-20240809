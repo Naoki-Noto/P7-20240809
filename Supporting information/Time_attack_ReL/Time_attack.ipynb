{
 "cells": [
  {
   "cell_type": "code",
   "execution_count": 1,
   "id": "8759fb82",
   "metadata": {},
   "outputs": [],
   "source": [
    "import psutil\n",
    "import os\n",
    "p = psutil.Process(os.getpid())\n",
    "p.cpu_affinity([0])\n",
    "\n",
    "import time\n",
    "start_time = time.time()"
   ]
  },
  {
   "cell_type": "code",
   "execution_count": 2,
   "id": "e4bad375-d189-4359-ab5f-b799b8165f77",
   "metadata": {},
   "outputs": [],
   "source": [
    "import pandas as pd\n",
    "import numpy as np\n",
    "from rdkit import Chem\n",
    "from rdkit.Chem import Descriptors\n",
    "from QL_env_agent_e1 import ChemicalSpace, QLAgent"
   ]
  },
  {
   "cell_type": "code",
   "execution_count": 3,
   "id": "033269e5",
   "metadata": {},
   "outputs": [],
   "source": [
    "env = ChemicalSpace()\n",
    "agent = QLAgent()\n",
    "\n",
    "episodes = 10000\n",
    "np.random.seed(0)\n",
    "\n",
    "smiles_list = []\n",
    "rewards = []\n",
    "for episode in range(episodes):\n",
    "    state = env.reset()\n",
    "\n",
    "    while True:\n",
    "        action = agent.get_action(state)\n",
    "        next_state, reward, done = env.step(action)\n",
    "\n",
    "        agent.update(state, action, reward, next_state, done)\n",
    "        if env.op_count > 1:\n",
    "            mol = Chem.MolFromSmiles(env.smiles)\n",
    "            if mol is not None:\n",
    "                smiles_list.append(env.smiles)\n",
    "                rewards.append(reward)\n",
    "            \n",
    "        if done:\n",
    "            break\n",
    "\n",
    "        state = next_state\n",
    "\n",
    "df0 = pd.DataFrame({'SMILES': smiles_list, 'reward': rewards})"
   ]
  },
  {
   "cell_type": "code",
   "execution_count": 4,
   "id": "342559bd-a568-4542-a647-36877fc693ac",
   "metadata": {},
   "outputs": [],
   "source": [
    "np.random.seed(1)\n",
    "\n",
    "smiles_list = []\n",
    "rewards = []\n",
    "for episode in range(episodes):\n",
    "    state = env.reset()\n",
    "\n",
    "    while True:\n",
    "        action = agent.get_action(state)\n",
    "        next_state, reward, done = env.step(action)\n",
    "\n",
    "        agent.update(state, action, reward, next_state, done)\n",
    "        if env.op_count > 1:\n",
    "            mol = Chem.MolFromSmiles(env.smiles)\n",
    "            if mol is not None:\n",
    "                smiles_list.append(env.smiles)\n",
    "                rewards.append(reward)\n",
    "            \n",
    "        if done:\n",
    "            break\n",
    "\n",
    "        state = next_state\n",
    "\n",
    "df1 = pd.DataFrame({'SMILES': smiles_list, 'reward': rewards})"
   ]
  },
  {
   "cell_type": "code",
   "execution_count": 5,
   "id": "cc61c95e",
   "metadata": {},
   "outputs": [],
   "source": [
    "np.random.seed(2)\n",
    "\n",
    "smiles_list = []\n",
    "rewards = []\n",
    "for episode in range(episodes):\n",
    "\n",
    "    state = env.reset()\n",
    "\n",
    "    while True:\n",
    "        action = agent.get_action(state)\n",
    "        next_state, reward, done = env.step(action)\n",
    "\n",
    "        agent.update(state, action, reward, next_state, done)\n",
    "        if env.op_count > 1:\n",
    "            mol = Chem.MolFromSmiles(env.smiles)\n",
    "            if mol is not None:\n",
    "                smiles_list.append(env.smiles)\n",
    "                rewards.append(reward)\n",
    "            \n",
    "        if done:\n",
    "            break\n",
    "\n",
    "        state = next_state\n",
    "\n",
    "df2 = pd.DataFrame({'SMILES': smiles_list, 'reward': rewards})"
   ]
  },
  {
   "cell_type": "code",
   "execution_count": 6,
   "id": "695ecb94-c71d-47f4-af26-b67f0f3caf76",
   "metadata": {},
   "outputs": [],
   "source": [
    "np.random.seed(3)\n",
    "\n",
    "smiles_list = []\n",
    "rewards = []\n",
    "for episode in range(episodes):\n",
    "    state = env.reset()\n",
    "\n",
    "    while True:\n",
    "        action = agent.get_action(state)\n",
    "        next_state, reward, done = env.step(action)\n",
    "\n",
    "        agent.update(state, action, reward, next_state, done)\n",
    "        if env.op_count > 1:\n",
    "            mol = Chem.MolFromSmiles(env.smiles)\n",
    "            if mol is not None:\n",
    "                smiles_list.append(env.smiles)\n",
    "                rewards.append(reward)\n",
    "            \n",
    "        if done:\n",
    "            break\n",
    "\n",
    "        state = next_state\n",
    "\n",
    "df3 = pd.DataFrame({'SMILES': smiles_list, 'reward': rewards})"
   ]
  },
  {
   "cell_type": "code",
   "execution_count": 7,
   "id": "b4bf1bde-cf7e-41f3-9630-47a60f3ffba8",
   "metadata": {},
   "outputs": [],
   "source": [
    "def number_bond_silicon(mol):\n",
    "    if mol:\n",
    "        for atom in mol.GetAtoms():\n",
    "            if atom.GetSymbol() == 'Si':\n",
    "                if atom.GetDegree() > 3:\n",
    "                    return False\n",
    "                if atom.GetDegree() == 2 and atom.GetNumRadicalElectrons() > 0:\n",
    "                    return False\n",
    "    return True\n",
    "\n",
    "incorrect_patterns = [\"[SiH2]([*])([*])([*])\"]\n",
    "\n",
    "def remove_incorrect_silicon(molecules, patterns):\n",
    "    filtered_molecules = []\n",
    "    for mol in molecules:\n",
    "        if mol is None:\n",
    "            continue\n",
    "        remove = False\n",
    "        for pattern in patterns:\n",
    "            patt = Chem.MolFromSmarts(pattern)\n",
    "            if mol.HasSubstructMatch(patt):\n",
    "                remove = True\n",
    "                break\n",
    "        if not remove:\n",
    "            filtered_molecules.append(mol)\n",
    "    return filtered_molecules\n",
    "\n",
    "def number_bond_phosphorus(mol):\n",
    "    if mol:\n",
    "        for atom in mol.GetAtoms():\n",
    "            if atom.GetSymbol() == 'P':\n",
    "                if atom.GetDegree() > 4 and atom.GetNumExplicitHs() > 0:\n",
    "                    return False\n",
    "    return True\n",
    "\n",
    "\n",
    "data = pd.concat([df0, df1, df2, df3]).reset_index(drop=True)\n",
    "data = data[data['reward'] > 0]\n",
    "\n",
    "smiles_list = np.array(data['SMILES'])\n",
    "mols = [Chem.MolFromSmiles(smiles) for smiles in smiles_list]\n",
    "\n",
    "mols = [mol for mol in mols if number_bond_silicon(mol)]\n",
    "mols = [mol for mol in mols if number_bond_phosphorus(mol)]\n",
    "mols = remove_incorrect_silicon(mols, incorrect_patterns)\n",
    "\n",
    "unique_mols = {}\n",
    "for mol in mols:\n",
    "    canonical_smiles = Chem.MolToSmiles(mol)\n",
    "    unique_mols[canonical_smiles] = mol\n",
    "\n",
    "final_smiles_list = list(unique_mols.keys())\n",
    "\n",
    "f_smiles = pd.DataFrame(final_smiles_list, columns=['SMILES'])"
   ]
  },
  {
   "cell_type": "code",
   "execution_count": 8,
   "id": "af074077-a75d-4e9b-8996-22b6761a3ede",
   "metadata": {},
   "outputs": [],
   "source": [
    "def get_bertzct(smiles):\n",
    "    molecule = Chem.MolFromSmiles(smiles)\n",
    "    if molecule is not None:\n",
    "        return Descriptors.BertzCT(molecule)\n",
    "    else:\n",
    "        return None\n",
    "\n",
    "f_smiles['BertzCT'] = f_smiles['SMILES'].apply(get_bertzct)\n",
    "f_data = f_smiles.dropna(subset=['BertzCT'])\n",
    "f_data.to_csv('result/result_ta.csv', index=False)"
   ]
  },
  {
   "cell_type": "code",
   "execution_count": 9,
   "id": "22d7484c-711e-4a98-a846-2f0f62c9e342",
   "metadata": {},
   "outputs": [],
   "source": [
    "end_time = time.time()"
   ]
  },
  {
   "cell_type": "code",
   "execution_count": 10,
   "id": "b380a308-165c-4794-9d61-8c9e881cbb61",
   "metadata": {},
   "outputs": [
    {
     "name": "stdout",
     "output_type": "stream",
     "text": [
      "run time: 3007sec\n"
     ]
    }
   ],
   "source": [
    "elapsed_time = end_time - start_time\n",
    "print(f\"run time: {elapsed_time:.0f}sec\")"
   ]
  },
  {
   "cell_type": "code",
   "execution_count": null,
   "id": "688d5778-8ece-4456-a188-1eb037248881",
   "metadata": {},
   "outputs": [],
   "source": []
  },
  {
   "cell_type": "code",
   "execution_count": null,
   "id": "387fc2a6-a999-4a9d-8504-382af4e010a5",
   "metadata": {},
   "outputs": [],
   "source": []
  },
  {
   "cell_type": "code",
   "execution_count": null,
   "id": "b9c45a0f-ecc9-4b87-9503-cd4f79950915",
   "metadata": {},
   "outputs": [],
   "source": []
  },
  {
   "cell_type": "code",
   "execution_count": null,
   "id": "20016b3c-5d3b-4097-95b9-de6bef9a32eb",
   "metadata": {},
   "outputs": [],
   "source": []
  },
  {
   "cell_type": "code",
   "execution_count": null,
   "id": "24434296-3f87-47d5-8776-7ef6bfbc1c5a",
   "metadata": {},
   "outputs": [],
   "source": []
  },
  {
   "cell_type": "code",
   "execution_count": null,
   "id": "82867eb7-ab79-4616-9f1e-6acbde441602",
   "metadata": {},
   "outputs": [],
   "source": []
  },
  {
   "cell_type": "code",
   "execution_count": null,
   "id": "7773a08e-54c4-4747-9c96-74674f6e00a6",
   "metadata": {},
   "outputs": [],
   "source": []
  },
  {
   "cell_type": "code",
   "execution_count": null,
   "id": "e13c34eb-0fba-44c6-b365-ef253b858d9b",
   "metadata": {},
   "outputs": [],
   "source": []
  },
  {
   "cell_type": "code",
   "execution_count": null,
   "id": "c5cc846b-1024-4300-a782-4c23190d82d1",
   "metadata": {},
   "outputs": [],
   "source": []
  }
 ],
 "metadata": {
  "kernelspec": {
   "display_name": "Python 3 (ipykernel)",
   "language": "python",
   "name": "python3"
  },
  "language_info": {
   "codemirror_mode": {
    "name": "ipython",
    "version": 3
   },
   "file_extension": ".py",
   "mimetype": "text/x-python",
   "name": "python",
   "nbconvert_exporter": "python",
   "pygments_lexer": "ipython3",
   "version": "3.10.14"
  }
 },
 "nbformat": 4,
 "nbformat_minor": 5
}

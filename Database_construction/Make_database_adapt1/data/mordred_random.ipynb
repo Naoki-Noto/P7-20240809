{
 "cells": [
  {
   "cell_type": "code",
   "execution_count": 1,
   "id": "8759fb82",
   "metadata": {},
   "outputs": [],
   "source": [
    "import pandas as pd\n",
    "import numpy as np\n",
    "from rdkit import Chem\n",
    "from rdkit.Chem import AllChem\n",
    "from mordred import Calculator, descriptors"
   ]
  },
  {
   "cell_type": "code",
   "execution_count": 2,
   "id": "033269e5",
   "metadata": {},
   "outputs": [],
   "source": [
    "def remove_all_zero_col(data):\n",
    "    data = data.copy()\n",
    "    for col in data.columns:\n",
    "        if (data[col] == 0).all():\n",
    "            data.drop(col, axis=1, inplace=True)\n",
    "    return data"
   ]
  },
  {
   "cell_type": "code",
   "execution_count": 3,
   "id": "cc61c95e",
   "metadata": {},
   "outputs": [
    {
     "data": {
      "text/plain": [
       "0                            O=C1NC(=O)c2cc(-c3cncs3)ccc21\n",
       "1                                  CNCc1ccc(S(C)(=O)=O)cc1\n",
       "2               c1ccc2c(c1)sc1c(-c3c4ncsc4cc4ncsc34)cccc12\n",
       "3        C1=Nc2c(cc3ncsc3c2-c2cccc3c2sc2ccccc23)[SH]1c1...\n",
       "4        O=P(c1ccccc1)(c1ccccc1)c1cccc(-c2ccc3c(c2)oc2c...\n",
       "                               ...                        \n",
       "29618        O=S(=O)(Cn1c2ccc(Cl)cc2c2cc(Cl)ccc21)c1ccccc1\n",
       "29619    N#CC(C#N)=C1C(=Cc2ccc(-c3cccc(S(=O)(=O)Cn4c5cc...\n",
       "29620    Clc1ccc2c(c1)c1cc(Cl)ccc1n2Cn1ccc(-c2cc3c(cn2)...\n",
       "29621    Clc1ccc2c(c1)c1cc(Cl)cc(-c3c4ncsc4cc4ncsc34)c1...\n",
       "29622      COc1cc(OCc2ccc(N(C)C)cc2)cc(C2=CC(=O)C=CC2=O)c1\n",
       "Name: SMILES, Length: 29623, dtype: object"
      ]
     },
     "execution_count": 3,
     "metadata": {},
     "output_type": "execute_result"
    }
   ],
   "source": [
    "data = pd.read_csv(\"source/smiles_e1.csv\")\n",
    "smiles = data['SMILES']\n",
    "smiles"
   ]
  },
  {
   "cell_type": "code",
   "execution_count": 4,
   "id": "02aa1c39",
   "metadata": {},
   "outputs": [
    {
     "name": "stderr",
     "output_type": "stream",
     "text": [
      "  0%|▏                                                                              | 49/29623 [00:03<34:10, 14.43it/s]"
     ]
    },
    {
     "name": "stdout",
     "output_type": "stream",
     "text": [
      "C:\\Users\\noton\\miniconda3\\envs\\adapt1\\lib\\site-packages\\numpy\\core\\fromnumeric.py:86: RuntimeWarning: overflow encountered in reduce\n",
      "  return ufunc.reduce(obj, axis, dtype, out, **passkwargs)\n"
     ]
    },
    {
     "name": "stderr",
     "output_type": "stream",
     "text": [
      "  0%|▏                                                                              | 73/29623 [00:04<25:20, 19.44it/s]"
     ]
    },
    {
     "name": "stdout",
     "output_type": "stream",
     "text": [
      "C:\\Users\\noton\\miniconda3\\envs\\adapt1\\lib\\site-packages\\numpy\\core\\fromnumeric.py:86: RuntimeWarning: overflow encountered in reduce\n",
      "  return ufunc.reduce(obj, axis, dtype, out, **passkwargs)\n",
      "C:\\Users\\noton\\miniconda3\\envs\\adapt1\\lib\\site-packages\\numpy\\core\\fromnumeric.py:86: RuntimeWarning: overflow encountered in reduce\n",
      "  return ufunc.reduce(obj, axis, dtype, out, **passkwargs)\n"
     ]
    },
    {
     "name": "stderr",
     "output_type": "stream",
     "text": [
      "  0%|▏                                                                              | 92/29623 [00:05<27:29, 17.90it/s]"
     ]
    },
    {
     "name": "stdout",
     "output_type": "stream",
     "text": [
      "C:\\Users\\noton\\miniconda3\\envs\\adapt1\\lib\\site-packages\\numpy\\core\\fromnumeric.py:86: RuntimeWarning: overflow encountered in reduce\n",
      "  return ufunc.reduce(obj, axis, dtype, out, **passkwargs)\n",
      "C:\\Users\\noton\\miniconda3\\envs\\adapt1\\lib\\site-packages\\numpy\\core\\fromnumeric.py:86: RuntimeWarning: overflow encountered in reduce\n",
      "  return ufunc.reduce(obj, axis, dtype, out, **passkwargs)\n"
     ]
    },
    {
     "name": "stderr",
     "output_type": "stream",
     "text": [
      "  0%|▎                                                                              | 98/29623 [00:06<33:05, 14.87it/s]"
     ]
    },
    {
     "name": "stdout",
     "output_type": "stream",
     "text": [
      "C:\\Users\\noton\\miniconda3\\envs\\adapt1\\lib\\site-packages\\numpy\\core\\fromnumeric.py:86: RuntimeWarning: overflow encountered in reduce\n",
      "  return ufunc.reduce(obj, axis, dtype, out, **passkwargs)\n"
     ]
    },
    {
     "name": "stderr",
     "output_type": "stream",
     "text": [
      "  0%|▎                                                                             | 141/29623 [00:08<28:08, 17.46it/s]"
     ]
    },
    {
     "name": "stdout",
     "output_type": "stream",
     "text": [
      "C:\\Users\\noton\\miniconda3\\envs\\adapt1\\lib\\site-packages\\numpy\\core\\fromnumeric.py:86: RuntimeWarning: overflow encountered in reduce\n",
      "  return ufunc.reduce(obj, axis, dtype, out, **passkwargs)\n"
     ]
    },
    {
     "name": "stderr",
     "output_type": "stream",
     "text": [
      "  1%|▌                                                                             | 237/29623 [00:12<24:43, 19.80it/s]"
     ]
    },
    {
     "name": "stdout",
     "output_type": "stream",
     "text": [
      "C:\\Users\\noton\\miniconda3\\envs\\adapt1\\lib\\site-packages\\numpy\\core\\fromnumeric.py:86: RuntimeWarning: overflow encountered in reduce\n",
      "  return ufunc.reduce(obj, axis, dtype, out, **passkwargs)\n",
      "C:\\Users\\noton\\miniconda3\\envs\\adapt1\\lib\\site-packages\\numpy\\core\\fromnumeric.py:86: RuntimeWarning: overflow encountered in reduce\n",
      "  return ufunc.reduce(obj, axis, dtype, out, **passkwargs)\n"
     ]
    },
    {
     "name": "stderr",
     "output_type": "stream",
     "text": [
      "  1%|▋                                                                             | 276/29623 [00:13<20:23, 23.98it/s]"
     ]
    },
    {
     "name": "stdout",
     "output_type": "stream",
     "text": [
      "C:\\Users\\noton\\miniconda3\\envs\\adapt1\\lib\\site-packages\\numpy\\core\\fromnumeric.py:86: RuntimeWarning: overflow encountered in reduce\n",
      "  return ufunc.reduce(obj, axis, dtype, out, **passkwargs)\n"
     ]
    },
    {
     "name": "stderr",
     "output_type": "stream",
     "text": [
      "  1%|▊                                                                             | 290/29623 [00:14<28:37, 17.08it/s]"
     ]
    },
    {
     "name": "stdout",
     "output_type": "stream",
     "text": [
      "C:\\Users\\noton\\miniconda3\\envs\\adapt1\\lib\\site-packages\\numpy\\core\\fromnumeric.py:86: RuntimeWarning: overflow encountered in reduce\n",
      "  return ufunc.reduce(obj, axis, dtype, out, **passkwargs)\n"
     ]
    },
    {
     "name": "stderr",
     "output_type": "stream",
     "text": [
      "  2%|█▍                                                                            | 538/29623 [00:23<21:13, 22.84it/s]"
     ]
    },
    {
     "name": "stdout",
     "output_type": "stream",
     "text": [
      "C:\\Users\\noton\\miniconda3\\envs\\adapt1\\lib\\site-packages\\numpy\\core\\fromnumeric.py:86: RuntimeWarning: overflow encountered in reduce\n",
      "  return ufunc.reduce(obj, axis, dtype, out, **passkwargs)\n"
     ]
    },
    {
     "name": "stderr",
     "output_type": "stream",
     "text": [
      "100%|████████████████████████████████████████████████████████████████████████████| 29623/29623 [23:16<00:00, 21.22it/s]\n"
     ]
    },
    {
     "data": {
      "text/html": [
       "<div>\n",
       "<style scoped>\n",
       "    .dataframe tbody tr th:only-of-type {\n",
       "        vertical-align: middle;\n",
       "    }\n",
       "\n",
       "    .dataframe tbody tr th {\n",
       "        vertical-align: top;\n",
       "    }\n",
       "\n",
       "    .dataframe thead th {\n",
       "        text-align: right;\n",
       "    }\n",
       "</style>\n",
       "<table border=\"1\" class=\"dataframe\">\n",
       "  <thead>\n",
       "    <tr style=\"text-align: right;\">\n",
       "      <th></th>\n",
       "      <th>ABC</th>\n",
       "      <th>ABCGG</th>\n",
       "      <th>nAcid</th>\n",
       "      <th>nBase</th>\n",
       "      <th>SpAbs_A</th>\n",
       "      <th>SpMax_A</th>\n",
       "      <th>SpDiam_A</th>\n",
       "      <th>SpAD_A</th>\n",
       "      <th>SpMAD_A</th>\n",
       "      <th>LogEE_A</th>\n",
       "      <th>...</th>\n",
       "      <th>SRW10</th>\n",
       "      <th>TSRW10</th>\n",
       "      <th>MW</th>\n",
       "      <th>AMW</th>\n",
       "      <th>WPath</th>\n",
       "      <th>WPol</th>\n",
       "      <th>Zagreb1</th>\n",
       "      <th>Zagreb2</th>\n",
       "      <th>mZagreb1</th>\n",
       "      <th>mZagreb2</th>\n",
       "    </tr>\n",
       "  </thead>\n",
       "  <tbody>\n",
       "    <tr>\n",
       "      <th>0</th>\n",
       "      <td>12.784941</td>\n",
       "      <td>11.306906</td>\n",
       "      <td>0.0</td>\n",
       "      <td>0.0</td>\n",
       "      <td>21.099587</td>\n",
       "      <td>2.465486</td>\n",
       "      <td>4.800181</td>\n",
       "      <td>21.099587</td>\n",
       "      <td>1.318724</td>\n",
       "      <td>3.738438</td>\n",
       "      <td>...</td>\n",
       "      <td>9.754233</td>\n",
       "      <td>64.677355</td>\n",
       "      <td>230.014998</td>\n",
       "      <td>10.455227</td>\n",
       "      <td>418.0</td>\n",
       "      <td>23.0</td>\n",
       "      <td>88.0</td>\n",
       "      <td>106.0</td>\n",
       "      <td>4.666667</td>\n",
       "      <td>3.444444</td>\n",
       "    </tr>\n",
       "    <tr>\n",
       "      <th>1</th>\n",
       "      <td>9.607534</td>\n",
       "      <td>8.765714</td>\n",
       "      <td>0.0</td>\n",
       "      <td>1.0</td>\n",
       "      <td>15.185460</td>\n",
       "      <td>2.321935</td>\n",
       "      <td>4.643870</td>\n",
       "      <td>15.185460</td>\n",
       "      <td>1.168112</td>\n",
       "      <td>3.457903</td>\n",
       "      <td>...</td>\n",
       "      <td>9.278653</td>\n",
       "      <td>43.923001</td>\n",
       "      <td>199.066700</td>\n",
       "      <td>7.656412</td>\n",
       "      <td>262.0</td>\n",
       "      <td>16.0</td>\n",
       "      <td>62.0</td>\n",
       "      <td>68.0</td>\n",
       "      <td>5.784722</td>\n",
       "      <td>2.916667</td>\n",
       "    </tr>\n",
       "    <tr>\n",
       "      <th>2</th>\n",
       "      <td>20.849242</td>\n",
       "      <td>16.631104</td>\n",
       "      <td>0.0</td>\n",
       "      <td>0.0</td>\n",
       "      <td>34.706954</td>\n",
       "      <td>2.575194</td>\n",
       "      <td>5.044330</td>\n",
       "      <td>34.706954</td>\n",
       "      <td>1.388278</td>\n",
       "      <td>4.221171</td>\n",
       "      <td>...</td>\n",
       "      <td>10.485731</td>\n",
       "      <td>77.987666</td>\n",
       "      <td>374.000611</td>\n",
       "      <td>10.685732</td>\n",
       "      <td>1295.0</td>\n",
       "      <td>45.0</td>\n",
       "      <td>150.0</td>\n",
       "      <td>189.0</td>\n",
       "      <td>4.861111</td>\n",
       "      <td>5.250000</td>\n",
       "    </tr>\n",
       "    <tr>\n",
       "      <th>3</th>\n",
       "      <td>25.011003</td>\n",
       "      <td>19.555614</td>\n",
       "      <td>0.0</td>\n",
       "      <td>0.0</td>\n",
       "      <td>41.657614</td>\n",
       "      <td>2.593815</td>\n",
       "      <td>5.073291</td>\n",
       "      <td>41.657614</td>\n",
       "      <td>1.388587</td>\n",
       "      <td>4.401414</td>\n",
       "      <td>...</td>\n",
       "      <td>10.653086</td>\n",
       "      <td>84.662224</td>\n",
       "      <td>458.999231</td>\n",
       "      <td>10.674401</td>\n",
       "      <td>2180.0</td>\n",
       "      <td>54.0</td>\n",
       "      <td>180.0</td>\n",
       "      <td>227.0</td>\n",
       "      <td>5.833333</td>\n",
       "      <td>6.305556</td>\n",
       "    </tr>\n",
       "    <tr>\n",
       "      <th>4</th>\n",
       "      <td>26.682387</td>\n",
       "      <td>19.363781</td>\n",
       "      <td>0.0</td>\n",
       "      <td>0.0</td>\n",
       "      <td>45.470608</td>\n",
       "      <td>2.521928</td>\n",
       "      <td>5.029415</td>\n",
       "      <td>45.470608</td>\n",
       "      <td>1.377897</td>\n",
       "      <td>4.461703</td>\n",
       "      <td>...</td>\n",
       "      <td>10.656247</td>\n",
       "      <td>84.190602</td>\n",
       "      <td>444.127917</td>\n",
       "      <td>8.224591</td>\n",
       "      <td>3115.0</td>\n",
       "      <td>60.0</td>\n",
       "      <td>186.0</td>\n",
       "      <td>228.0</td>\n",
       "      <td>7.562500</td>\n",
       "      <td>7.111111</td>\n",
       "    </tr>\n",
       "    <tr>\n",
       "      <th>...</th>\n",
       "      <td>...</td>\n",
       "      <td>...</td>\n",
       "      <td>...</td>\n",
       "      <td>...</td>\n",
       "      <td>...</td>\n",
       "      <td>...</td>\n",
       "      <td>...</td>\n",
       "      <td>...</td>\n",
       "      <td>...</td>\n",
       "      <td>...</td>\n",
       "      <td>...</td>\n",
       "      <td>...</td>\n",
       "      <td>...</td>\n",
       "      <td>...</td>\n",
       "      <td>...</td>\n",
       "      <td>...</td>\n",
       "      <td>...</td>\n",
       "      <td>...</td>\n",
       "      <td>...</td>\n",
       "      <td>...</td>\n",
       "      <td>...</td>\n",
       "    </tr>\n",
       "    <tr>\n",
       "      <th>29618</th>\n",
       "      <td>20.071797</td>\n",
       "      <td>15.950093</td>\n",
       "      <td>0.0</td>\n",
       "      <td>0.0</td>\n",
       "      <td>32.365655</td>\n",
       "      <td>2.559125</td>\n",
       "      <td>4.944904</td>\n",
       "      <td>32.365655</td>\n",
       "      <td>1.294626</td>\n",
       "      <td>4.175950</td>\n",
       "      <td>...</td>\n",
       "      <td>10.356377</td>\n",
       "      <td>75.032267</td>\n",
       "      <td>389.004405</td>\n",
       "      <td>10.236958</td>\n",
       "      <td>1386.0</td>\n",
       "      <td>43.0</td>\n",
       "      <td>140.0</td>\n",
       "      <td>169.0</td>\n",
       "      <td>7.951389</td>\n",
       "      <td>5.263889</td>\n",
       "    </tr>\n",
       "    <tr>\n",
       "      <th>29619</th>\n",
       "      <td>37.575775</td>\n",
       "      <td>26.627446</td>\n",
       "      <td>0.0</td>\n",
       "      <td>0.0</td>\n",
       "      <td>61.959946</td>\n",
       "      <td>2.560598</td>\n",
       "      <td>4.982955</td>\n",
       "      <td>61.959946</td>\n",
       "      <td>1.318297</td>\n",
       "      <td>4.803426</td>\n",
       "      <td>...</td>\n",
       "      <td>10.988119</td>\n",
       "      <td>102.213104</td>\n",
       "      <td>669.068068</td>\n",
       "      <td>9.839236</td>\n",
       "      <td>9123.0</td>\n",
       "      <td>87.0</td>\n",
       "      <td>264.0</td>\n",
       "      <td>323.0</td>\n",
       "      <td>14.451389</td>\n",
       "      <td>10.125000</td>\n",
       "    </tr>\n",
       "    <tr>\n",
       "      <th>29620</th>\n",
       "      <td>28.139090</td>\n",
       "      <td>19.695473</td>\n",
       "      <td>0.0</td>\n",
       "      <td>0.0</td>\n",
       "      <td>46.172034</td>\n",
       "      <td>2.553300</td>\n",
       "      <td>4.893372</td>\n",
       "      <td>46.172034</td>\n",
       "      <td>1.358001</td>\n",
       "      <td>4.511012</td>\n",
       "      <td>...</td>\n",
       "      <td>10.698085</td>\n",
       "      <td>88.620220</td>\n",
       "      <td>496.067778</td>\n",
       "      <td>9.539765</td>\n",
       "      <td>3644.0</td>\n",
       "      <td>60.0</td>\n",
       "      <td>200.0</td>\n",
       "      <td>247.0</td>\n",
       "      <td>8.055556</td>\n",
       "      <td>7.083333</td>\n",
       "    </tr>\n",
       "    <tr>\n",
       "      <th>29621</th>\n",
       "      <td>38.503051</td>\n",
       "      <td>27.340598</td>\n",
       "      <td>0.0</td>\n",
       "      <td>0.0</td>\n",
       "      <td>62.867219</td>\n",
       "      <td>2.616979</td>\n",
       "      <td>5.109214</td>\n",
       "      <td>62.867219</td>\n",
       "      <td>1.366679</td>\n",
       "      <td>4.823918</td>\n",
       "      <td>...</td>\n",
       "      <td>11.090889</td>\n",
       "      <td>103.676581</td>\n",
       "      <td>686.033719</td>\n",
       "      <td>10.394450</td>\n",
       "      <td>7549.0</td>\n",
       "      <td>86.0</td>\n",
       "      <td>278.0</td>\n",
       "      <td>349.0</td>\n",
       "      <td>10.222222</td>\n",
       "      <td>9.500000</td>\n",
       "    </tr>\n",
       "    <tr>\n",
       "      <th>29622</th>\n",
       "      <td>20.822336</td>\n",
       "      <td>16.006847</td>\n",
       "      <td>0.0</td>\n",
       "      <td>0.0</td>\n",
       "      <td>34.825296</td>\n",
       "      <td>2.399461</td>\n",
       "      <td>4.798923</td>\n",
       "      <td>34.825296</td>\n",
       "      <td>1.289826</td>\n",
       "      <td>4.213214</td>\n",
       "      <td>...</td>\n",
       "      <td>10.108019</td>\n",
       "      <td>61.942233</td>\n",
       "      <td>363.147058</td>\n",
       "      <td>7.565564</td>\n",
       "      <td>2034.0</td>\n",
       "      <td>41.0</td>\n",
       "      <td>138.0</td>\n",
       "      <td>159.0</td>\n",
       "      <td>9.250000</td>\n",
       "      <td>6.000000</td>\n",
       "    </tr>\n",
       "  </tbody>\n",
       "</table>\n",
       "<p>29623 rows × 1613 columns</p>\n",
       "</div>"
      ],
      "text/plain": [
       "             ABC      ABCGG  nAcid  nBase    SpAbs_A   SpMax_A  SpDiam_A  \\\n",
       "0      12.784941  11.306906    0.0    0.0  21.099587  2.465486  4.800181   \n",
       "1       9.607534   8.765714    0.0    1.0  15.185460  2.321935  4.643870   \n",
       "2      20.849242  16.631104    0.0    0.0  34.706954  2.575194  5.044330   \n",
       "3      25.011003  19.555614    0.0    0.0  41.657614  2.593815  5.073291   \n",
       "4      26.682387  19.363781    0.0    0.0  45.470608  2.521928  5.029415   \n",
       "...          ...        ...    ...    ...        ...       ...       ...   \n",
       "29618  20.071797  15.950093    0.0    0.0  32.365655  2.559125  4.944904   \n",
       "29619  37.575775  26.627446    0.0    0.0  61.959946  2.560598  4.982955   \n",
       "29620  28.139090  19.695473    0.0    0.0  46.172034  2.553300  4.893372   \n",
       "29621  38.503051  27.340598    0.0    0.0  62.867219  2.616979  5.109214   \n",
       "29622  20.822336  16.006847    0.0    0.0  34.825296  2.399461  4.798923   \n",
       "\n",
       "          SpAD_A   SpMAD_A   LogEE_A  ...      SRW10      TSRW10          MW  \\\n",
       "0      21.099587  1.318724  3.738438  ...   9.754233   64.677355  230.014998   \n",
       "1      15.185460  1.168112  3.457903  ...   9.278653   43.923001  199.066700   \n",
       "2      34.706954  1.388278  4.221171  ...  10.485731   77.987666  374.000611   \n",
       "3      41.657614  1.388587  4.401414  ...  10.653086   84.662224  458.999231   \n",
       "4      45.470608  1.377897  4.461703  ...  10.656247   84.190602  444.127917   \n",
       "...          ...       ...       ...  ...        ...         ...         ...   \n",
       "29618  32.365655  1.294626  4.175950  ...  10.356377   75.032267  389.004405   \n",
       "29619  61.959946  1.318297  4.803426  ...  10.988119  102.213104  669.068068   \n",
       "29620  46.172034  1.358001  4.511012  ...  10.698085   88.620220  496.067778   \n",
       "29621  62.867219  1.366679  4.823918  ...  11.090889  103.676581  686.033719   \n",
       "29622  34.825296  1.289826  4.213214  ...  10.108019   61.942233  363.147058   \n",
       "\n",
       "             AMW   WPath  WPol  Zagreb1  Zagreb2   mZagreb1   mZagreb2  \n",
       "0      10.455227   418.0  23.0     88.0    106.0   4.666667   3.444444  \n",
       "1       7.656412   262.0  16.0     62.0     68.0   5.784722   2.916667  \n",
       "2      10.685732  1295.0  45.0    150.0    189.0   4.861111   5.250000  \n",
       "3      10.674401  2180.0  54.0    180.0    227.0   5.833333   6.305556  \n",
       "4       8.224591  3115.0  60.0    186.0    228.0   7.562500   7.111111  \n",
       "...          ...     ...   ...      ...      ...        ...        ...  \n",
       "29618  10.236958  1386.0  43.0    140.0    169.0   7.951389   5.263889  \n",
       "29619   9.839236  9123.0  87.0    264.0    323.0  14.451389  10.125000  \n",
       "29620   9.539765  3644.0  60.0    200.0    247.0   8.055556   7.083333  \n",
       "29621  10.394450  7549.0  86.0    278.0    349.0  10.222222   9.500000  \n",
       "29622   7.565564  2034.0  41.0    138.0    159.0   9.250000   6.000000  \n",
       "\n",
       "[29623 rows x 1613 columns]"
      ]
     },
     "execution_count": 4,
     "metadata": {},
     "output_type": "execute_result"
    }
   ],
   "source": [
    "data['Mol'] = data['SMILES'].apply(Chem.MolFromSmiles)\n",
    "calc_mordred = Calculator(descriptors, ignore_3D=True)\n",
    "desc_mordred = calc_mordred.pandas(data['Mol'])\n",
    "mordred = desc_mordred.astype(str)\n",
    "masks = mordred.apply(lambda d: d.str.contains('[a-zA-Z]' ,na=False))\n",
    "mordred = mordred[~masks]\n",
    "mordred = mordred.astype(float)\n",
    "\n",
    "mordred"
   ]
  },
  {
   "cell_type": "code",
   "execution_count": 5,
   "id": "19364cd5",
   "metadata": {},
   "outputs": [],
   "source": [
    "mordred.to_csv('result/mordred_random.csv', index=False)"
   ]
  },
  {
   "cell_type": "code",
   "execution_count": null,
   "id": "da8e582d",
   "metadata": {},
   "outputs": [],
   "source": []
  }
 ],
 "metadata": {
  "kernelspec": {
   "display_name": "Python 3 (ipykernel)",
   "language": "python",
   "name": "python3"
  },
  "language_info": {
   "codemirror_mode": {
    "name": "ipython",
    "version": 3
   },
   "file_extension": ".py",
   "mimetype": "text/x-python",
   "name": "python",
   "nbconvert_exporter": "python",
   "pygments_lexer": "ipython3",
   "version": "3.7.16"
  }
 },
 "nbformat": 4,
 "nbformat_minor": 5
}

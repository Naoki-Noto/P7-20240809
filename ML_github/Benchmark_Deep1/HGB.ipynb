{
 "cells": [
  {
   "cell_type": "code",
   "execution_count": 1,
   "id": "8759fb82",
   "metadata": {},
   "outputs": [],
   "source": [
    "import pandas as pd\n",
    "from sklearn.model_selection import train_test_split\n",
    "from sklearn.model_selection import GridSearchCV\n",
    "from sklearn.ensemble import HistGradientBoostingRegressor\n",
    "from sklearn import metrics"
   ]
  },
  {
   "cell_type": "code",
   "execution_count": 2,
   "id": "6da02908",
   "metadata": {},
   "outputs": [
    {
     "name": "stdout",
     "output_type": "stream",
     "text": [
      "RDKit_pca\n",
      "   r2_train   r2_test  mae_train   mae_test\n",
      "0  0.999590  0.632261   0.406960  11.498774\n",
      "1  0.999661  0.479234   0.485535   7.880166\n",
      "2  0.999956  0.455665   0.113175  17.079299\n",
      "3  0.999406  0.790124   0.555498   8.385604\n",
      "4  0.999836  0.534578   0.226934  13.229597\n",
      "5  0.995442  0.233879   1.345097  13.768963\n",
      "6  0.999634  0.646874   0.441027   8.795886\n",
      "7  0.999986  0.626043   0.082086   9.689114\n",
      "8  0.999993  0.527299   0.061879  10.177518\n",
      "9  0.999839  0.587551   0.281357   9.868595\n",
      "mordred_pca\n",
      "   r2_train   r2_test  mae_train   mae_test\n",
      "0  0.999964  0.511383   0.121380  13.380627\n",
      "1  0.983626  0.117861   3.126943  13.718138\n",
      "2  0.999063  0.391982   0.487240  17.842728\n",
      "3  0.999942  0.681051   0.167480   9.289176\n",
      "4  0.983604  0.203650   1.875058  16.739185\n",
      "5  0.999487  0.508458   0.393141  12.330423\n",
      "6  0.999833  0.443125   0.287432  12.019065\n",
      "7  0.991377  0.522214   1.760067  11.295777\n",
      "8  0.999950  0.474215   0.162810  12.177840\n",
      "9  0.982553  0.530027   2.923568  10.035897\n",
      "RDKit\n",
      "   r2_train   r2_test  mae_train   mae_test\n",
      "0  0.999999  0.622085   0.015974  11.256656\n",
      "1  0.998121  0.566433   1.131099   7.337615\n",
      "2  0.999969  0.536897   0.092650  15.208027\n",
      "3  0.997613  0.746240   1.069871   8.217494\n",
      "4  0.999905  0.063315   0.156502  17.752892\n",
      "5  0.996339  0.163796   1.209832  16.456488\n",
      "6  0.999954  0.392029   0.145932  11.517946\n",
      "7  0.999999  0.533419   0.023119   9.784757\n",
      "8  0.999999  0.401835   0.026449  10.890560\n",
      "9  0.999982  0.298959   0.104872  11.375959\n",
      "mordred\n",
      "   r2_train   r2_test  mae_train   mae_test\n",
      "0  0.999993  0.483482   0.039171  14.456512\n",
      "1  0.999805  0.511241   0.373370   8.635253\n",
      "2  0.999962  0.664309   0.044346  12.592269\n",
      "3  0.999999  0.449376   0.013008  11.149333\n",
      "4  0.999972  0.628280   0.055120  12.239349\n",
      "5  0.999922  0.489778   0.203445  12.465419\n",
      "6  0.999989  0.544383   0.061509  10.809849\n",
      "7  0.999999  0.606000   0.023736  10.449117\n",
      "8  1.000000  0.560503   0.011794   9.394168\n",
      "9  0.999914  0.566819   0.109553   9.866788\n"
     ]
    }
   ],
   "source": [
    "for d in ['RDKit_pca', 'mordred_pca', 'RDKit', 'mordred']:\n",
    "    dataset = d\n",
    "    print(dataset)\n",
    "    data = pd.read_csv(f'data/data_{dataset}.csv')\n",
    "    y = pd.DataFrame(data['Yield'],columns=['Yield'])\n",
    "    X = data.drop(columns=['Name', 'ID', 'Yield'])\n",
    "\n",
    "    r2_train = []\n",
    "    r2_test = []\n",
    "    mae_train = []\n",
    "    mae_test = []\n",
    "    for i in range(0,10):\n",
    "        X_train, X_test, y_train, y_test = train_test_split(X, y, test_size=0.5, random_state=i)\n",
    "        param = {\"max_leaf_nodes\": [3, 5, 7], \"max_depth\": [3, 4, 5, 6], \"l2_regularization\": [0, 0.01, 0.1, 1],\n",
    "                 \"min_samples_leaf\": [2, 3, 5]}\n",
    "        reg = GridSearchCV(HistGradientBoostingRegressor(random_state=0), param_grid=param, cv=10, n_jobs=12)\n",
    "        reg.fit(X_train,y_train['Yield'])\n",
    "        best = reg.best_estimator_\n",
    "        y_pred1 = best.predict(X_train)\n",
    "        y_pred2 = best.predict(X_test)\n",
    "        r2_train.append(metrics.r2_score(y_train, y_pred1))\n",
    "        r2_test.append(metrics.r2_score(y_test, y_pred2))\n",
    "        mae_train.append(metrics.mean_absolute_error(y_train, y_pred1))\n",
    "        mae_test.append(metrics.mean_absolute_error(y_test, y_pred2))\n",
    "    \n",
    "    r2_train = pd.DataFrame(data=r2_train, columns=['r2_train'])\n",
    "    r2_test = pd.DataFrame(data=r2_test, columns=['r2_test'])\n",
    "    mae_train = pd.DataFrame(data=mae_train, columns=['mae_train'])\n",
    "    mae_test = pd.DataFrame(data=mae_test, columns=['mae_test'])\n",
    "    result = pd.concat([r2_train, r2_test, mae_train, mae_test], axis=1, join='inner')\n",
    "    print(result)\n",
    "    result.to_csv(f'result/HGB/result_{dataset}.csv')"
   ]
  },
  {
   "cell_type": "code",
   "execution_count": null,
   "id": "cc61c95e",
   "metadata": {},
   "outputs": [],
   "source": []
  }
 ],
 "metadata": {
  "kernelspec": {
   "display_name": "Python 3 (ipykernel)",
   "language": "python",
   "name": "python3"
  },
  "language_info": {
   "codemirror_mode": {
    "name": "ipython",
    "version": 3
   },
   "file_extension": ".py",
   "mimetype": "text/x-python",
   "name": "python",
   "nbconvert_exporter": "python",
   "pygments_lexer": "ipython3",
   "version": "3.10.13"
  }
 },
 "nbformat": 4,
 "nbformat_minor": 5
}

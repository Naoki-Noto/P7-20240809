{
 "cells": [
  {
   "cell_type": "code",
   "execution_count": 1,
   "id": "8759fb82",
   "metadata": {},
   "outputs": [],
   "source": [
    "import pandas as pd\n",
    "from sklearn.model_selection import train_test_split\n",
    "from sklearn.model_selection import GridSearchCV\n",
    "from sklearn.svm import SVR\n",
    "from sklearn import metrics"
   ]
  },
  {
   "cell_type": "code",
   "execution_count": 2,
   "id": "6da02908",
   "metadata": {},
   "outputs": [
    {
     "name": "stdout",
     "output_type": "stream",
     "text": [
      "RDKit_pca\n",
      "   r2_train   r2_test  mae_train   mae_test\n",
      "0  0.117892 -0.096050  12.094641  18.985322\n",
      "1  0.785697 -1.464453  10.687954  22.151391\n",
      "2  0.025484 -0.276389   9.793530  22.555143\n",
      "3 -0.296692 -0.280356  16.983094  17.021059\n",
      "4 -0.202723 -0.536898  10.986456  23.727288\n",
      "5  0.740713  0.109239   9.832693  17.826574\n",
      "6  0.016183 -0.106997  15.542452  16.040098\n",
      "7 -0.248342 -0.377843  15.224069  18.984542\n",
      "8 -0.395747 -0.251233  19.819539  15.099950\n",
      "9  0.014506  0.034132  17.399023  13.185941\n",
      "mordred_pca\n",
      "   r2_train   r2_test  mae_train   mae_test\n",
      "0 -0.025173 -0.136666  13.556202  19.459613\n",
      "1  0.628173 -0.367139  16.174480  18.881147\n",
      "2 -0.036164 -0.319352  10.047751  22.809872\n",
      "3 -0.115584 -0.132559  16.228669  16.388549\n",
      "4 -0.206024 -0.539850  10.993277  23.745573\n",
      "5  0.676615  0.311877  10.888193  16.671522\n",
      "6 -0.246778 -0.268134  17.582188  17.078984\n",
      "7 -0.257474 -0.387162  15.329037  19.044774\n",
      "8 -0.395804 -0.251276  19.819604  15.099858\n",
      "9 -0.307877 -0.278183  20.254388  14.327741\n",
      "RDKit\n",
      "   r2_train   r2_test  mae_train   mae_test\n",
      "0 -0.155770 -0.303305  13.803515  19.990660\n",
      "1  0.935164 -3.026269   8.193130  21.252916\n",
      "2 -0.094867 -0.386961  10.506192  23.265004\n",
      "3 -0.195177 -0.198839  16.679696  16.846349\n",
      "4 -0.198968 -0.533763  10.965992  23.694300\n",
      "5  0.805937  0.309457   6.677535  15.239647\n",
      "6 -0.175548 -0.230497  16.676368  16.524657\n",
      "7 -0.276549 -0.406842  15.449336  19.120437\n",
      "8 -0.393594 -0.249552  19.805870  15.093977\n",
      "9  0.913708  0.414936   7.711736  12.420695\n",
      "mordred\n",
      "   r2_train   r2_test  mae_train   mae_test\n",
      "0 -0.155800 -0.278910  13.801689  19.846173\n",
      "1  0.996633 -0.409570   1.587506  14.499298\n",
      "2 -0.097760 -0.387618  10.551873  23.360342\n",
      "3  0.998825  0.712465   0.961148  10.772234\n",
      "4 -0.200459 -0.534551  10.972658  23.701536\n",
      "5  0.807367  0.343084   7.148288  15.011938\n",
      "6 -0.186368 -0.234531  16.811135  16.564049\n",
      "7 -0.278461 -0.407683  15.466842  19.128644\n",
      "8 -0.375084 -0.235125  19.693770  15.056317\n",
      "9 -0.230064 -0.193815  19.760460  13.947048\n"
     ]
    }
   ],
   "source": [
    "for d in ['RDKit_pca', 'mordred_pca', 'RDKit', 'mordred']:\n",
    "    dataset = d\n",
    "    print(dataset)\n",
    "    data = pd.read_csv(f'data/data_{dataset}.csv')\n",
    "    y = pd.DataFrame(data['Yield'],columns=['Yield'])\n",
    "    X = data.drop(columns=['Name', 'ID', 'Yield'])\n",
    "\n",
    "    r2_train = []\n",
    "    r2_test = []\n",
    "    mae_train = []\n",
    "    mae_test = []\n",
    "    for i in range(0,10):\n",
    "        X_train, X_test, y_train, y_test = train_test_split(X, y, test_size=0.5, random_state=i)\n",
    "        a_X_train = (X_train - X_train.mean()) / X_train.std()\n",
    "        a_X_test = (X_test - X_train.mean()) / X_train.std()\n",
    "        a_X_train = a_X_train.dropna(how='any', axis=1)\n",
    "        a_X_test = a_X_test[a_X_train.columns]\n",
    "        param = {'C':[1e+04, 1e+05, 1e+06, 1e+07, 1e+08, 1e+09],\n",
    "                 'gamma':[1e-09, 1e-08, 1e-07, 1e-06, 1e-05, 1e-04],\n",
    "                 'epsilon':[0.1, 1, 10, 50, 100]}\n",
    "        reg = GridSearchCV(SVR(kernel='rbf'), param_grid=param, cv=10, n_jobs=6)\n",
    "        reg.fit(a_X_train,y_train['Yield'])\n",
    "        best = reg.best_estimator_\n",
    "        y_pred1 = best.predict(a_X_train)\n",
    "        y_pred2 = best.predict(a_X_test)\n",
    "        r2_train.append(metrics.r2_score(y_train, y_pred1))\n",
    "        r2_test.append(metrics.r2_score(y_test, y_pred2))\n",
    "        mae_train.append(metrics.mean_absolute_error(y_train, y_pred1))\n",
    "        mae_test.append(metrics.mean_absolute_error(y_test, y_pred2))\n",
    "    \n",
    "    r2_train = pd.DataFrame(data=r2_train, columns=['r2_train'])\n",
    "    r2_test = pd.DataFrame(data=r2_test, columns=['r2_test'])\n",
    "    mae_train = pd.DataFrame(data=mae_train, columns=['mae_train'])\n",
    "    mae_test = pd.DataFrame(data=mae_test, columns=['mae_test'])\n",
    "    result = pd.concat([r2_train, r2_test, mae_train, mae_test], axis=1, join='inner')\n",
    "    print(result)\n",
    "    result.to_csv(f'result/SVM/result_{dataset}.csv')"
   ]
  },
  {
   "cell_type": "code",
   "execution_count": null,
   "id": "cc61c95e",
   "metadata": {},
   "outputs": [],
   "source": []
  }
 ],
 "metadata": {
  "kernelspec": {
   "display_name": "Python 3 (ipykernel)",
   "language": "python",
   "name": "python3"
  },
  "language_info": {
   "codemirror_mode": {
    "name": "ipython",
    "version": 3
   },
   "file_extension": ".py",
   "mimetype": "text/x-python",
   "name": "python",
   "nbconvert_exporter": "python",
   "pygments_lexer": "ipython3",
   "version": "3.10.13"
  }
 },
 "nbformat": 4,
 "nbformat_minor": 5
}

{
 "cells": [
  {
   "cell_type": "code",
   "execution_count": 1,
   "id": "8759fb82",
   "metadata": {},
   "outputs": [],
   "source": [
    "import pandas as pd\n",
    "from sklearn.model_selection import train_test_split\n",
    "from sklearn.model_selection import GridSearchCV\n",
    "from sklearn.ensemble import RandomForestRegressor\n",
    "from sklearn import metrics"
   ]
  },
  {
   "cell_type": "code",
   "execution_count": 2,
   "id": "6da02908",
   "metadata": {},
   "outputs": [
    {
     "name": "stdout",
     "output_type": "stream",
     "text": [
      "RDKit_pca\n",
      "   r2_train   r2_test  mae_train   mae_test\n",
      "0  0.885563  0.576981   5.922712  14.247677\n",
      "1  0.947994  0.422283   4.924399  10.243433\n",
      "2  0.895042  0.482464   3.823799  17.294410\n",
      "3  0.922492  0.783300   5.060834   9.434829\n",
      "4  0.955648  0.486026   2.438979  14.235339\n",
      "5  0.963667  0.150741   3.615032  13.991110\n",
      "6  0.963478  0.551338   3.586818  10.884889\n",
      "7  0.972082  0.579802   2.776558  10.366935\n",
      "8  0.945892  0.571114   4.773543  10.605812\n",
      "9  0.945905  0.477103   5.049452  10.654257\n",
      "mordred_pca\n",
      "   r2_train   r2_test  mae_train   mae_test\n",
      "0  0.900637  0.549993   5.608597  14.375713\n",
      "1  0.944879  0.345474   5.165840  10.473707\n",
      "2  0.887138  0.519601   4.040738  17.267424\n",
      "3  0.917243  0.728155   5.427089   9.952995\n",
      "4  0.957682  0.296094   2.720961  16.167035\n",
      "5  0.965361  0.513932   3.694799  11.932659\n",
      "6  0.965024  0.457817   3.437768  12.628935\n",
      "7  0.962952  0.540370   3.452204  11.429866\n",
      "8  0.913778  0.539386   6.127037  11.444245\n",
      "9  0.933619  0.462668   5.787426  10.149073\n",
      "RDKit\n",
      "   r2_train   r2_test  mae_train   mae_test\n",
      "0  0.928688  0.702534   4.427245  11.560973\n",
      "1  0.957025  0.513088   4.960821   9.146003\n",
      "2  0.915853  0.569439   3.699109  15.949116\n",
      "3  0.927192  0.623737   4.447387  11.377563\n",
      "4  0.942825  0.322614   3.285177  15.662037\n",
      "5  0.974472  0.225827   3.141578  15.489972\n",
      "6  0.959228  0.473650   3.625552  12.212124\n",
      "7  0.956964  0.550116   3.791225  10.693257\n",
      "8  0.954543  0.432336   4.336138  12.133944\n",
      "9  0.973053  0.465874   3.606414  10.344612\n",
      "mordred\n",
      "   r2_train   r2_test  mae_train   mae_test\n",
      "0  0.942389  0.670578   4.104653  13.713540\n",
      "1  0.955772  0.419287   5.093534  10.929402\n",
      "2  0.919747  0.589574   3.734359  16.235236\n",
      "3  0.946660  0.708651   4.409231   9.493354\n",
      "4  0.950609  0.445582   2.712850  14.750826\n",
      "5  0.972085  0.425795   3.420217  13.947458\n",
      "6  0.967197  0.617306   3.673973  10.843764\n",
      "7  0.965571  0.654575   3.861445  11.532717\n",
      "8  0.959683  0.548675   4.112179  12.082199\n",
      "9  0.959664  0.629124   4.332847   9.593628\n"
     ]
    }
   ],
   "source": [
    "for d in ['RDKit_pca', 'mordred_pca', 'RDKit', 'mordred']:\n",
    "    dataset = d\n",
    "    print(dataset)\n",
    "    data = pd.read_csv(f'data/data_{dataset}.csv')\n",
    "    y = pd.DataFrame(data['Yield'],columns=['Yield'])\n",
    "    X = data.drop(columns=['Name', 'ID', 'Yield'])\n",
    "\n",
    "    r2_train = []\n",
    "    r2_test = []\n",
    "    mae_train = []\n",
    "    mae_test = []\n",
    "    for i in range(0,10):\n",
    "        X_train, X_test, y_train, y_test = train_test_split(X, y, test_size=0.5, random_state=i)\n",
    "        param = {\"n_estimators\": [100, 1000, 5000], \"max_depth\": [3, 4, 5, 6]}\n",
    "        reg = GridSearchCV(RandomForestRegressor(random_state=0), param_grid=param, cv=10, n_jobs=6)\n",
    "        reg.fit(X_train,y_train['Yield'])\n",
    "        best = reg.best_estimator_\n",
    "        y_pred1 = best.predict(X_train)\n",
    "        y_pred2 = best.predict(X_test)\n",
    "        r2_train.append(metrics.r2_score(y_train, y_pred1))\n",
    "        r2_test.append(metrics.r2_score(y_test, y_pred2))\n",
    "        mae_train.append(metrics.mean_absolute_error(y_train, y_pred1))\n",
    "        mae_test.append(metrics.mean_absolute_error(y_test, y_pred2))\n",
    "    \n",
    "    r2_train = pd.DataFrame(data=r2_train, columns=['r2_train'])\n",
    "    r2_test = pd.DataFrame(data=r2_test, columns=['r2_test'])\n",
    "    mae_train = pd.DataFrame(data=mae_train, columns=['mae_train'])\n",
    "    mae_test = pd.DataFrame(data=mae_test, columns=['mae_test'])\n",
    "    result = pd.concat([r2_train, r2_test, mae_train, mae_test], axis=1, join='inner')\n",
    "    print(result)\n",
    "    result.to_csv(f'result/RF/result_{dataset}.csv')"
   ]
  },
  {
   "cell_type": "code",
   "execution_count": null,
   "id": "cc61c95e",
   "metadata": {},
   "outputs": [],
   "source": []
  }
 ],
 "metadata": {
  "kernelspec": {
   "display_name": "Python 3 (ipykernel)",
   "language": "python",
   "name": "python3"
  },
  "language_info": {
   "codemirror_mode": {
    "name": "ipython",
    "version": 3
   },
   "file_extension": ".py",
   "mimetype": "text/x-python",
   "name": "python",
   "nbconvert_exporter": "python",
   "pygments_lexer": "ipython3",
   "version": "3.10.13"
  }
 },
 "nbformat": 4,
 "nbformat_minor": 5
}

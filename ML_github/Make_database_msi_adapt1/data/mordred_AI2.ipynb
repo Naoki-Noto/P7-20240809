{
 "cells": [
  {
   "cell_type": "code",
   "execution_count": 1,
   "id": "8759fb82",
   "metadata": {},
   "outputs": [],
   "source": [
    "import pandas as pd\n",
    "import numpy as np\n",
    "from rdkit import Chem\n",
    "from rdkit.Chem import AllChem\n",
    "from mordred import Calculator, descriptors"
   ]
  },
  {
   "cell_type": "code",
   "execution_count": 2,
   "id": "033269e5",
   "metadata": {},
   "outputs": [],
   "source": [
    "def remove_all_zero_col(data):\n",
    "    data = data.copy()\n",
    "    for col in data.columns:\n",
    "        if (data[col] == 0).all():\n",
    "            data.drop(col, axis=1, inplace=True)\n",
    "    return data"
   ]
  },
  {
   "cell_type": "code",
   "execution_count": 3,
   "id": "cc61c95e",
   "metadata": {},
   "outputs": [
    {
     "data": {
      "text/plain": [
       "0                          CN(C)c1ccc(-c2ccc(N(C)C)cc2)cc1\n",
       "1          CN(C)c1ccc(-c2ccc(N(C)C)cc2-c2ccc(N(C)C)cc2)cc1\n",
       "2                     CN(C)c1ccc(-c2ccc(C=C(C#N)C#N)s2)cc1\n",
       "3        CN(C)c1ccc(-c2cc(N(C)C)ccc2-c2ccc(C=C(C#N)C#N)...\n",
       "4        CN(C)c1ccc(-c2cc(N(C)C)ccc2-c2cc(N(C)C)ccc2-c2...\n",
       "                               ...                        \n",
       "25540    COc1cc(OCn2c3ccc(Cl)cc3c3cc(Cl)ccc32)cc(OC)c1-...\n",
       "25541    CN(C)c1ccc(-c2ccccn2)c(-c2ccc(N(C)C)c(-c3ccc(C...\n",
       "25542    Sc1nc2cc3nc(-c4cc(-n5c6ccccc6c6cnccc65)c(-c5cc...\n",
       "25543    CN(C)c1ccc(-c2c3[nH]c(S)nc3cc3nc(-c4cc(-n5c6cc...\n",
       "25544          CN(CN(c1ccccc1)c1ccccc1)c1ccc(-c2ccccc2)cc1\n",
       "Name: SMILES, Length: 25545, dtype: object"
      ]
     },
     "execution_count": 3,
     "metadata": {},
     "output_type": "execute_result"
    }
   ],
   "source": [
    "data = pd.read_csv(\"source/smiles_e01.csv\")\n",
    "smiles = data['SMILES']\n",
    "smiles"
   ]
  },
  {
   "cell_type": "code",
   "execution_count": 4,
   "id": "02aa1c39",
   "metadata": {},
   "outputs": [
    {
     "name": "stderr",
     "output_type": "stream",
     "text": [
      "  0%|          | 127/25545 [00:07<19:22, 21.86it/s] "
     ]
    },
    {
     "name": "stdout",
     "output_type": "stream",
     "text": [
      "C:\\Users\\noton\\anaconda3\\envs\\adapt1\\lib\\site-packages\\numpy\\core\\fromnumeric.py:86: RuntimeWarning: overflow encountered in reduce\n",
      "  return ufunc.reduce(obj, axis, dtype, out, **passkwargs)\n"
     ]
    },
    {
     "name": "stderr",
     "output_type": "stream",
     "text": [
      "  1%|          | 141/25545 [00:07<19:59, 21.19it/s]"
     ]
    },
    {
     "name": "stdout",
     "output_type": "stream",
     "text": [
      "C:\\Users\\noton\\anaconda3\\envs\\adapt1\\lib\\site-packages\\numpy\\core\\fromnumeric.py:86: RuntimeWarning: overflow encountered in reduce\n",
      "  return ufunc.reduce(obj, axis, dtype, out, **passkwargs)\n"
     ]
    },
    {
     "name": "stderr",
     "output_type": "stream",
     "text": [
      "  1%|          | 157/25545 [00:09<35:57, 11.77it/s]"
     ]
    },
    {
     "name": "stdout",
     "output_type": "stream",
     "text": [
      "C:\\Users\\noton\\anaconda3\\envs\\adapt1\\lib\\site-packages\\numpy\\core\\fromnumeric.py:86: RuntimeWarning: overflow encountered in reduce\n",
      "  return ufunc.reduce(obj, axis, dtype, out, **passkwargs)\n"
     ]
    },
    {
     "name": "stderr",
     "output_type": "stream",
     "text": [
      "  1%|          | 159/25545 [00:10<49:14,  8.59it/s]"
     ]
    },
    {
     "name": "stdout",
     "output_type": "stream",
     "text": [
      "C:\\Users\\noton\\anaconda3\\envs\\adapt1\\lib\\site-packages\\numpy\\core\\fromnumeric.py:86: RuntimeWarning: overflow encountered in reduce\n",
      "  return ufunc.reduce(obj, axis, dtype, out, **passkwargs)\n"
     ]
    },
    {
     "name": "stderr",
     "output_type": "stream",
     "text": [
      "  1%|          | 183/25545 [00:10<1:01:38,  6.86it/s]"
     ]
    },
    {
     "name": "stdout",
     "output_type": "stream",
     "text": [
      "C:\\Users\\noton\\anaconda3\\envs\\adapt1\\lib\\site-packages\\numpy\\core\\fromnumeric.py:86: RuntimeWarning: overflow encountered in reduce\n",
      "  return ufunc.reduce(obj, axis, dtype, out, **passkwargs)\n",
      "C:\\Users\\noton\\anaconda3\\envs\\adapt1\\lib\\site-packages\\numpy\\core\\fromnumeric.py:86: RuntimeWarning: overflow encountered in reduce\n",
      "  return ufunc.reduce(obj, axis, dtype, out, **passkwargs)\n",
      "C:\\Users\\noton\\anaconda3\\envs\\adapt1\\lib\\site-packages\\numpy\\core\\fromnumeric.py:86: RuntimeWarning: overflow encountered in reduce\n",
      "  return ufunc.reduce(obj, axis, dtype, out, **passkwargs)\n",
      "C:\\Users\\noton\\anaconda3\\envs\\adapt1\\lib\\site-packages\\numpy\\core\\fromnumeric.py:86: RuntimeWarning: overflow encountered in reduce\n",
      "  return ufunc.reduce(obj, axis, dtype, out, **passkwargs)\n"
     ]
    },
    {
     "name": "stderr",
     "output_type": "stream",
     "text": [
      "  1%|          | 192/25545 [00:11<21:07, 20.00it/s]  "
     ]
    },
    {
     "name": "stdout",
     "output_type": "stream",
     "text": [
      "C:\\Users\\noton\\anaconda3\\envs\\adapt1\\lib\\site-packages\\numpy\\core\\fromnumeric.py:86: RuntimeWarning: overflow encountered in reduce\n",
      "  return ufunc.reduce(obj, axis, dtype, out, **passkwargs)\n"
     ]
    },
    {
     "name": "stderr",
     "output_type": "stream",
     "text": [
      "  1%|          | 199/25545 [00:11<22:43, 18.58it/s]"
     ]
    },
    {
     "name": "stdout",
     "output_type": "stream",
     "text": [
      "C:\\Users\\noton\\anaconda3\\envs\\adapt1\\lib\\site-packages\\numpy\\core\\fromnumeric.py:86: RuntimeWarning: overflow encountered in reduce\n",
      "  return ufunc.reduce(obj, axis, dtype, out, **passkwargs)\n"
     ]
    },
    {
     "name": "stderr",
     "output_type": "stream",
     "text": [
      "  1%|          | 203/25545 [00:12<25:55, 16.30it/s]"
     ]
    },
    {
     "name": "stdout",
     "output_type": "stream",
     "text": [
      "C:\\Users\\noton\\anaconda3\\envs\\adapt1\\lib\\site-packages\\numpy\\core\\fromnumeric.py:86: RuntimeWarning: overflow encountered in reduce\n",
      "  return ufunc.reduce(obj, axis, dtype, out, **passkwargs)\n"
     ]
    },
    {
     "name": "stderr",
     "output_type": "stream",
     "text": [
      "  1%|          | 220/25545 [00:13<43:10,  9.78it/s]"
     ]
    },
    {
     "name": "stdout",
     "output_type": "stream",
     "text": [
      "C:\\Users\\noton\\anaconda3\\envs\\adapt1\\lib\\site-packages\\numpy\\core\\fromnumeric.py:86: RuntimeWarning: overflow encountered in reduce\n",
      "  return ufunc.reduce(obj, axis, dtype, out, **passkwargs)\n",
      "C:\\Users\\noton\\anaconda3\\envs\\adapt1\\lib\\site-packages\\numpy\\core\\fromnumeric.py:86: RuntimeWarning: overflow encountered in reduce\n",
      "  return ufunc.reduce(obj, axis, dtype, out, **passkwargs)\n",
      "C:\\Users\\noton\\anaconda3\\envs\\adapt1\\lib\\site-packages\\numpy\\core\\fromnumeric.py:86: RuntimeWarning: overflow encountered in reduce\n",
      "  return ufunc.reduce(obj, axis, dtype, out, **passkwargs)\n"
     ]
    },
    {
     "name": "stderr",
     "output_type": "stream",
     "text": [
      "  1%|          | 228/25545 [00:13<21:24, 19.71it/s]"
     ]
    },
    {
     "name": "stdout",
     "output_type": "stream",
     "text": [
      "C:\\Users\\noton\\anaconda3\\envs\\adapt1\\lib\\site-packages\\numpy\\core\\fromnumeric.py:86: RuntimeWarning: overflow encountered in reduce\n",
      "  return ufunc.reduce(obj, axis, dtype, out, **passkwargs)\n"
     ]
    },
    {
     "name": "stderr",
     "output_type": "stream",
     "text": [
      "  1%|          | 292/25545 [00:16<19:12, 21.91it/s]"
     ]
    },
    {
     "name": "stdout",
     "output_type": "stream",
     "text": [
      "C:\\Users\\noton\\anaconda3\\envs\\adapt1\\lib\\site-packages\\numpy\\core\\fromnumeric.py:86: RuntimeWarning: overflow encountered in reduce\n",
      "  return ufunc.reduce(obj, axis, dtype, out, **passkwargs)\n"
     ]
    },
    {
     "name": "stderr",
     "output_type": "stream",
     "text": [
      "100%|██████████| 25545/25545 [23:23<00:00, 18.20it/s] \n"
     ]
    },
    {
     "data": {
      "text/html": [
       "<div>\n",
       "<style scoped>\n",
       "    .dataframe tbody tr th:only-of-type {\n",
       "        vertical-align: middle;\n",
       "    }\n",
       "\n",
       "    .dataframe tbody tr th {\n",
       "        vertical-align: top;\n",
       "    }\n",
       "\n",
       "    .dataframe thead th {\n",
       "        text-align: right;\n",
       "    }\n",
       "</style>\n",
       "<table border=\"1\" class=\"dataframe\">\n",
       "  <thead>\n",
       "    <tr style=\"text-align: right;\">\n",
       "      <th></th>\n",
       "      <th>ABC</th>\n",
       "      <th>ABCGG</th>\n",
       "      <th>nAcid</th>\n",
       "      <th>nBase</th>\n",
       "      <th>SpAbs_A</th>\n",
       "      <th>SpMax_A</th>\n",
       "      <th>SpDiam_A</th>\n",
       "      <th>SpAD_A</th>\n",
       "      <th>SpMAD_A</th>\n",
       "      <th>LogEE_A</th>\n",
       "      <th>...</th>\n",
       "      <th>SRW10</th>\n",
       "      <th>TSRW10</th>\n",
       "      <th>MW</th>\n",
       "      <th>AMW</th>\n",
       "      <th>WPath</th>\n",
       "      <th>WPol</th>\n",
       "      <th>Zagreb1</th>\n",
       "      <th>Zagreb2</th>\n",
       "      <th>mZagreb1</th>\n",
       "      <th>mZagreb2</th>\n",
       "    </tr>\n",
       "  </thead>\n",
       "  <tbody>\n",
       "    <tr>\n",
       "      <th>0</th>\n",
       "      <td>13.751268</td>\n",
       "      <td>11.174438</td>\n",
       "      <td>0.0</td>\n",
       "      <td>0.0</td>\n",
       "      <td>22.772325</td>\n",
       "      <td>2.347941</td>\n",
       "      <td>4.695881</td>\n",
       "      <td>22.772325</td>\n",
       "      <td>1.265129</td>\n",
       "      <td>3.804076</td>\n",
       "      <td>...</td>\n",
       "      <td>9.647240</td>\n",
       "      <td>50.768505</td>\n",
       "      <td>240.162649</td>\n",
       "      <td>6.320070</td>\n",
       "      <td>671.0</td>\n",
       "      <td>26.0</td>\n",
       "      <td>90.0</td>\n",
       "      <td>103.0</td>\n",
       "      <td>6.666667</td>\n",
       "      <td>4.000000</td>\n",
       "    </tr>\n",
       "    <tr>\n",
       "      <th>1</th>\n",
       "      <td>20.919795</td>\n",
       "      <td>16.309248</td>\n",
       "      <td>0.0</td>\n",
       "      <td>0.0</td>\n",
       "      <td>34.360705</td>\n",
       "      <td>2.442429</td>\n",
       "      <td>4.884859</td>\n",
       "      <td>34.360705</td>\n",
       "      <td>1.272619</td>\n",
       "      <td>4.216663</td>\n",
       "      <td>...</td>\n",
       "      <td>10.193130</td>\n",
       "      <td>62.151002</td>\n",
       "      <td>359.236148</td>\n",
       "      <td>6.414931</td>\n",
       "      <td>1884.0</td>\n",
       "      <td>44.0</td>\n",
       "      <td>140.0</td>\n",
       "      <td>164.0</td>\n",
       "      <td>9.861111</td>\n",
       "      <td>5.916667</td>\n",
       "    </tr>\n",
       "    <tr>\n",
       "      <th>2</th>\n",
       "      <td>14.987142</td>\n",
       "      <td>12.791073</td>\n",
       "      <td>0.0</td>\n",
       "      <td>0.0</td>\n",
       "      <td>25.490756</td>\n",
       "      <td>2.369479</td>\n",
       "      <td>4.664554</td>\n",
       "      <td>25.490756</td>\n",
       "      <td>1.274538</td>\n",
       "      <td>3.902730</td>\n",
       "      <td>...</td>\n",
       "      <td>9.642318</td>\n",
       "      <td>66.589086</td>\n",
       "      <td>279.083018</td>\n",
       "      <td>8.457061</td>\n",
       "      <td>922.0</td>\n",
       "      <td>27.0</td>\n",
       "      <td>98.0</td>\n",
       "      <td>112.0</td>\n",
       "      <td>7.166667</td>\n",
       "      <td>4.638889</td>\n",
       "    </tr>\n",
       "    <tr>\n",
       "      <th>3</th>\n",
       "      <td>22.155669</td>\n",
       "      <td>17.919982</td>\n",
       "      <td>0.0</td>\n",
       "      <td>0.0</td>\n",
       "      <td>37.081141</td>\n",
       "      <td>2.452734</td>\n",
       "      <td>4.876763</td>\n",
       "      <td>37.081141</td>\n",
       "      <td>1.278660</td>\n",
       "      <td>4.283043</td>\n",
       "      <td>...</td>\n",
       "      <td>10.190282</td>\n",
       "      <td>77.885647</td>\n",
       "      <td>398.156518</td>\n",
       "      <td>7.806991</td>\n",
       "      <td>2343.0</td>\n",
       "      <td>45.0</td>\n",
       "      <td>148.0</td>\n",
       "      <td>173.0</td>\n",
       "      <td>10.361111</td>\n",
       "      <td>6.555556</td>\n",
       "    </tr>\n",
       "    <tr>\n",
       "      <th>4</th>\n",
       "      <td>29.324196</td>\n",
       "      <td>22.940203</td>\n",
       "      <td>0.0</td>\n",
       "      <td>0.0</td>\n",
       "      <td>48.670321</td>\n",
       "      <td>2.493568</td>\n",
       "      <td>4.973525</td>\n",
       "      <td>48.670321</td>\n",
       "      <td>1.280798</td>\n",
       "      <td>4.557907</td>\n",
       "      <td>...</td>\n",
       "      <td>10.542522</td>\n",
       "      <td>88.447926</td>\n",
       "      <td>517.230017</td>\n",
       "      <td>7.496087</td>\n",
       "      <td>4592.0</td>\n",
       "      <td>63.0</td>\n",
       "      <td>198.0</td>\n",
       "      <td>234.0</td>\n",
       "      <td>13.555556</td>\n",
       "      <td>8.472222</td>\n",
       "    </tr>\n",
       "    <tr>\n",
       "      <th>...</th>\n",
       "      <td>...</td>\n",
       "      <td>...</td>\n",
       "      <td>...</td>\n",
       "      <td>...</td>\n",
       "      <td>...</td>\n",
       "      <td>...</td>\n",
       "      <td>...</td>\n",
       "      <td>...</td>\n",
       "      <td>...</td>\n",
       "      <td>...</td>\n",
       "      <td>...</td>\n",
       "      <td>...</td>\n",
       "      <td>...</td>\n",
       "      <td>...</td>\n",
       "      <td>...</td>\n",
       "      <td>...</td>\n",
       "      <td>...</td>\n",
       "      <td>...</td>\n",
       "      <td>...</td>\n",
       "      <td>...</td>\n",
       "      <td>...</td>\n",
       "    </tr>\n",
       "    <tr>\n",
       "      <th>25540</th>\n",
       "      <td>28.357869</td>\n",
       "      <td>20.876362</td>\n",
       "      <td>0.0</td>\n",
       "      <td>0.0</td>\n",
       "      <td>47.144569</td>\n",
       "      <td>2.546339</td>\n",
       "      <td>4.984738</td>\n",
       "      <td>47.144569</td>\n",
       "      <td>1.309571</td>\n",
       "      <td>4.525809</td>\n",
       "      <td>...</td>\n",
       "      <td>10.645925</td>\n",
       "      <td>87.613757</td>\n",
       "      <td>520.132048</td>\n",
       "      <td>8.389227</td>\n",
       "      <td>4224.0</td>\n",
       "      <td>64.0</td>\n",
       "      <td>196.0</td>\n",
       "      <td>237.0</td>\n",
       "      <td>11.555556</td>\n",
       "      <td>7.916667</td>\n",
       "    </tr>\n",
       "    <tr>\n",
       "      <th>25541</th>\n",
       "      <td>35.376567</td>\n",
       "      <td>26.981702</td>\n",
       "      <td>0.0</td>\n",
       "      <td>0.0</td>\n",
       "      <td>59.294781</td>\n",
       "      <td>2.534835</td>\n",
       "      <td>4.997121</td>\n",
       "      <td>59.294781</td>\n",
       "      <td>1.317662</td>\n",
       "      <td>4.746442</td>\n",
       "      <td>...</td>\n",
       "      <td>10.838620</td>\n",
       "      <td>99.244118</td>\n",
       "      <td>603.209282</td>\n",
       "      <td>8.151477</td>\n",
       "      <td>7410.0</td>\n",
       "      <td>80.0</td>\n",
       "      <td>244.0</td>\n",
       "      <td>296.0</td>\n",
       "      <td>14.138889</td>\n",
       "      <td>9.944444</td>\n",
       "    </tr>\n",
       "    <tr>\n",
       "      <th>25542</th>\n",
       "      <td>31.484354</td>\n",
       "      <td>22.092970</td>\n",
       "      <td>0.0</td>\n",
       "      <td>0.0</td>\n",
       "      <td>52.272578</td>\n",
       "      <td>2.579193</td>\n",
       "      <td>5.031411</td>\n",
       "      <td>52.272578</td>\n",
       "      <td>1.375594</td>\n",
       "      <td>4.623886</td>\n",
       "      <td>...</td>\n",
       "      <td>10.830738</td>\n",
       "      <td>93.215856</td>\n",
       "      <td>510.137514</td>\n",
       "      <td>9.109598</td>\n",
       "      <td>4389.0</td>\n",
       "      <td>69.0</td>\n",
       "      <td>224.0</td>\n",
       "      <td>278.0</td>\n",
       "      <td>8.166667</td>\n",
       "      <td>7.972222</td>\n",
       "    </tr>\n",
       "    <tr>\n",
       "      <th>25543</th>\n",
       "      <td>38.612441</td>\n",
       "      <td>26.693184</td>\n",
       "      <td>0.0</td>\n",
       "      <td>0.0</td>\n",
       "      <td>63.922066</td>\n",
       "      <td>2.586930</td>\n",
       "      <td>5.041227</td>\n",
       "      <td>63.922066</td>\n",
       "      <td>1.360044</td>\n",
       "      <td>4.826898</td>\n",
       "      <td>...</td>\n",
       "      <td>11.046611</td>\n",
       "      <td>103.255997</td>\n",
       "      <td>629.211013</td>\n",
       "      <td>8.502852</td>\n",
       "      <td>7853.0</td>\n",
       "      <td>88.0</td>\n",
       "      <td>274.0</td>\n",
       "      <td>340.0</td>\n",
       "      <td>11.361111</td>\n",
       "      <td>9.916667</td>\n",
       "    </tr>\n",
       "    <tr>\n",
       "      <th>25544</th>\n",
       "      <td>21.867940</td>\n",
       "      <td>16.347803</td>\n",
       "      <td>0.0</td>\n",
       "      <td>0.0</td>\n",
       "      <td>38.117268</td>\n",
       "      <td>2.378497</td>\n",
       "      <td>4.756994</td>\n",
       "      <td>38.117268</td>\n",
       "      <td>1.361331</td>\n",
       "      <td>4.261947</td>\n",
       "      <td>...</td>\n",
       "      <td>10.115489</td>\n",
       "      <td>63.099056</td>\n",
       "      <td>364.193949</td>\n",
       "      <td>7.003730</td>\n",
       "      <td>2194.0</td>\n",
       "      <td>42.0</td>\n",
       "      <td>144.0</td>\n",
       "      <td>167.0</td>\n",
       "      <td>6.777778</td>\n",
       "      <td>6.277778</td>\n",
       "    </tr>\n",
       "  </tbody>\n",
       "</table>\n",
       "<p>25545 rows × 1613 columns</p>\n",
       "</div>"
      ],
      "text/plain": [
       "             ABC      ABCGG  nAcid  nBase    SpAbs_A   SpMax_A  SpDiam_A  \\\n",
       "0      13.751268  11.174438    0.0    0.0  22.772325  2.347941  4.695881   \n",
       "1      20.919795  16.309248    0.0    0.0  34.360705  2.442429  4.884859   \n",
       "2      14.987142  12.791073    0.0    0.0  25.490756  2.369479  4.664554   \n",
       "3      22.155669  17.919982    0.0    0.0  37.081141  2.452734  4.876763   \n",
       "4      29.324196  22.940203    0.0    0.0  48.670321  2.493568  4.973525   \n",
       "...          ...        ...    ...    ...        ...       ...       ...   \n",
       "25540  28.357869  20.876362    0.0    0.0  47.144569  2.546339  4.984738   \n",
       "25541  35.376567  26.981702    0.0    0.0  59.294781  2.534835  4.997121   \n",
       "25542  31.484354  22.092970    0.0    0.0  52.272578  2.579193  5.031411   \n",
       "25543  38.612441  26.693184    0.0    0.0  63.922066  2.586930  5.041227   \n",
       "25544  21.867940  16.347803    0.0    0.0  38.117268  2.378497  4.756994   \n",
       "\n",
       "          SpAD_A   SpMAD_A   LogEE_A  ...      SRW10      TSRW10          MW  \\\n",
       "0      22.772325  1.265129  3.804076  ...   9.647240   50.768505  240.162649   \n",
       "1      34.360705  1.272619  4.216663  ...  10.193130   62.151002  359.236148   \n",
       "2      25.490756  1.274538  3.902730  ...   9.642318   66.589086  279.083018   \n",
       "3      37.081141  1.278660  4.283043  ...  10.190282   77.885647  398.156518   \n",
       "4      48.670321  1.280798  4.557907  ...  10.542522   88.447926  517.230017   \n",
       "...          ...       ...       ...  ...        ...         ...         ...   \n",
       "25540  47.144569  1.309571  4.525809  ...  10.645925   87.613757  520.132048   \n",
       "25541  59.294781  1.317662  4.746442  ...  10.838620   99.244118  603.209282   \n",
       "25542  52.272578  1.375594  4.623886  ...  10.830738   93.215856  510.137514   \n",
       "25543  63.922066  1.360044  4.826898  ...  11.046611  103.255997  629.211013   \n",
       "25544  38.117268  1.361331  4.261947  ...  10.115489   63.099056  364.193949   \n",
       "\n",
       "            AMW   WPath  WPol  Zagreb1  Zagreb2   mZagreb1  mZagreb2  \n",
       "0      6.320070   671.0  26.0     90.0    103.0   6.666667  4.000000  \n",
       "1      6.414931  1884.0  44.0    140.0    164.0   9.861111  5.916667  \n",
       "2      8.457061   922.0  27.0     98.0    112.0   7.166667  4.638889  \n",
       "3      7.806991  2343.0  45.0    148.0    173.0  10.361111  6.555556  \n",
       "4      7.496087  4592.0  63.0    198.0    234.0  13.555556  8.472222  \n",
       "...         ...     ...   ...      ...      ...        ...       ...  \n",
       "25540  8.389227  4224.0  64.0    196.0    237.0  11.555556  7.916667  \n",
       "25541  8.151477  7410.0  80.0    244.0    296.0  14.138889  9.944444  \n",
       "25542  9.109598  4389.0  69.0    224.0    278.0   8.166667  7.972222  \n",
       "25543  8.502852  7853.0  88.0    274.0    340.0  11.361111  9.916667  \n",
       "25544  7.003730  2194.0  42.0    144.0    167.0   6.777778  6.277778  \n",
       "\n",
       "[25545 rows x 1613 columns]"
      ]
     },
     "execution_count": 4,
     "metadata": {},
     "output_type": "execute_result"
    }
   ],
   "source": [
    "data['Mol'] = data['SMILES'].apply(Chem.MolFromSmiles)\n",
    "calc_mordred = Calculator(descriptors, ignore_3D=True)\n",
    "desc_mordred = calc_mordred.pandas(data['Mol'])\n",
    "mordred = desc_mordred.astype(str)\n",
    "masks = mordred.apply(lambda d: d.str.contains('[a-zA-Z]' ,na=False))\n",
    "mordred = mordred[~masks]\n",
    "mordred = mordred.astype(float)\n",
    "\n",
    "mordred"
   ]
  },
  {
   "cell_type": "code",
   "execution_count": 5,
   "id": "19364cd5",
   "metadata": {},
   "outputs": [],
   "source": [
    "mordred.to_csv('result/mordred_ai2.csv', index=False)"
   ]
  },
  {
   "cell_type": "code",
   "execution_count": null,
   "id": "da8e582d",
   "metadata": {},
   "outputs": [],
   "source": []
  }
 ],
 "metadata": {
  "kernelspec": {
   "display_name": "Python 3 (ipykernel)",
   "language": "python",
   "name": "python3"
  },
  "language_info": {
   "codemirror_mode": {
    "name": "ipython",
    "version": 3
   },
   "file_extension": ".py",
   "mimetype": "text/x-python",
   "name": "python",
   "nbconvert_exporter": "python",
   "pygments_lexer": "ipython3",
   "version": "3.7.16"
  }
 },
 "nbformat": 4,
 "nbformat_minor": 5
}

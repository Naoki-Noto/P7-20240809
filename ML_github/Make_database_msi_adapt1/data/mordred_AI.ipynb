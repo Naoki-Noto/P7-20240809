{
 "cells": [
  {
   "cell_type": "code",
   "execution_count": 1,
   "id": "8759fb82",
   "metadata": {},
   "outputs": [],
   "source": [
    "import pandas as pd\n",
    "import numpy as np\n",
    "from rdkit import Chem\n",
    "from rdkit.Chem import AllChem\n",
    "from mordred import Calculator, descriptors"
   ]
  },
  {
   "cell_type": "code",
   "execution_count": 2,
   "id": "033269e5",
   "metadata": {},
   "outputs": [],
   "source": [
    "def remove_all_zero_col(data):\n",
    "    data = data.copy()\n",
    "    for col in data.columns:\n",
    "        if (data[col] == 0).all():\n",
    "            data.drop(col, axis=1, inplace=True)\n",
    "    return data"
   ]
  },
  {
   "cell_type": "code",
   "execution_count": 3,
   "id": "cc61c95e",
   "metadata": {},
   "outputs": [
    {
     "data": {
      "text/plain": [
       "0                            O=C1NC(=O)c2cc(-c3cncs3)ccc21\n",
       "1                                  CNCc1ccc(S(C)(=O)=O)cc1\n",
       "2               c1ccc2c(c1)sc1c(-c3c4ncsc4cc4ncsc34)cccc12\n",
       "3        C1=Nc2c(cc3ncsc3c2-c2cccc3c2sc2ccccc23)[SH]1c1...\n",
       "4        O=P(c1ccccc1)(c1ccccc1)c1cccc(-c2ccc3c(c2)oc2c...\n",
       "                               ...                        \n",
       "28209    CNC(c1ccc(N2CCOC(c3c4ncoc4cc4ncoc34)C2)cc1)C1c...\n",
       "28210    CN(C)c1ccc(N(C)C(c2ccc(N3CCOC(c4c5ncoc5cc5ncoc...\n",
       "28211      O=Cc1ccc(C(=O)c2cocn2)cc1-c1ccc2c(c1)oc1ncccc12\n",
       "28212    O=Cc1ccc(C(=O)c2cocn2)cc1-c1ccc2c(c1)oc1nc(-c3...\n",
       "28213    Cc1cc(C)c(B(c2nc(-c3ocnc3C(=O)c3ccc(C=O)cc3)cc...\n",
       "Name: SMILES, Length: 28214, dtype: object"
      ]
     },
     "execution_count": 3,
     "metadata": {},
     "output_type": "execute_result"
    }
   ],
   "source": [
    "data = pd.read_csv(\"source/smiles_e1_01.csv\")\n",
    "smiles = data['SMILES']\n",
    "smiles"
   ]
  },
  {
   "cell_type": "code",
   "execution_count": 4,
   "id": "02aa1c39",
   "metadata": {},
   "outputs": [
    {
     "name": "stderr",
     "output_type": "stream",
     "text": [
      "  0%|          | 73/28214 [00:03<24:18, 19.29it/s]  "
     ]
    },
    {
     "name": "stdout",
     "output_type": "stream",
     "text": [
      "C:\\Users\\noton\\anaconda3\\envs\\adapt1\\lib\\site-packages\\numpy\\core\\fromnumeric.py:86: RuntimeWarning: overflow encountered in reduce\n",
      "  return ufunc.reduce(obj, axis, dtype, out, **passkwargs)\n",
      "C:\\Users\\noton\\anaconda3\\envs\\adapt1\\lib\\site-packages\\numpy\\core\\fromnumeric.py:86: RuntimeWarning: overflow encountered in reduce\n",
      "  return ufunc.reduce(obj, axis, dtype, out, **passkwargs)\n",
      "C:\\Users\\noton\\anaconda3\\envs\\adapt1\\lib\\site-packages\\numpy\\core\\fromnumeric.py:86: RuntimeWarning: overflow encountered in reduce\n",
      "  return ufunc.reduce(obj, axis, dtype, out, **passkwargs)\n"
     ]
    },
    {
     "name": "stderr",
     "output_type": "stream",
     "text": [
      "  0%|          | 90/28214 [00:04<17:28, 26.82it/s]"
     ]
    },
    {
     "name": "stdout",
     "output_type": "stream",
     "text": [
      "C:\\Users\\noton\\anaconda3\\envs\\adapt1\\lib\\site-packages\\numpy\\core\\fromnumeric.py:86: RuntimeWarning: overflow encountered in reduce\n",
      "  return ufunc.reduce(obj, axis, dtype, out, **passkwargs)\n",
      "C:\\Users\\noton\\anaconda3\\envs\\adapt1\\lib\\site-packages\\numpy\\core\\fromnumeric.py:86: RuntimeWarning: overflow encountered in reduce\n",
      "  return ufunc.reduce(obj, axis, dtype, out, **passkwargs)\n"
     ]
    },
    {
     "name": "stderr",
     "output_type": "stream",
     "text": [
      "  0%|          | 92/28214 [00:04<18:16, 25.65it/s]"
     ]
    },
    {
     "name": "stdout",
     "output_type": "stream",
     "text": [
      "C:\\Users\\noton\\anaconda3\\envs\\adapt1\\lib\\site-packages\\numpy\\core\\fromnumeric.py:86: RuntimeWarning: overflow encountered in reduce\n",
      "  return ufunc.reduce(obj, axis, dtype, out, **passkwargs)\n"
     ]
    },
    {
     "name": "stderr",
     "output_type": "stream",
     "text": [
      "  0%|          | 98/28214 [00:05<18:52, 24.83it/s]"
     ]
    },
    {
     "name": "stdout",
     "output_type": "stream",
     "text": [
      "C:\\Users\\noton\\anaconda3\\envs\\adapt1\\lib\\site-packages\\numpy\\core\\fromnumeric.py:86: RuntimeWarning: overflow encountered in reduce\n",
      "  return ufunc.reduce(obj, axis, dtype, out, **passkwargs)\n",
      "C:\\Users\\noton\\anaconda3\\envs\\adapt1\\lib\\site-packages\\numpy\\core\\fromnumeric.py:86: RuntimeWarning: overflow encountered in reduce\n",
      "  return ufunc.reduce(obj, axis, dtype, out, **passkwargs)\n"
     ]
    },
    {
     "name": "stderr",
     "output_type": "stream",
     "text": [
      "  0%|          | 132/28214 [00:05<14:02, 33.34it/s]"
     ]
    },
    {
     "name": "stdout",
     "output_type": "stream",
     "text": [
      "C:\\Users\\noton\\anaconda3\\envs\\adapt1\\lib\\site-packages\\numpy\\core\\fromnumeric.py:86: RuntimeWarning: overflow encountered in reduce\n",
      "  return ufunc.reduce(obj, axis, dtype, out, **passkwargs)\n"
     ]
    },
    {
     "name": "stderr",
     "output_type": "stream",
     "text": [
      "  0%|          | 141/28214 [00:06<16:38, 28.11it/s]"
     ]
    },
    {
     "name": "stdout",
     "output_type": "stream",
     "text": [
      "C:\\Users\\noton\\anaconda3\\envs\\adapt1\\lib\\site-packages\\numpy\\core\\fromnumeric.py:86: RuntimeWarning: overflow encountered in reduce\n",
      "  return ufunc.reduce(obj, axis, dtype, out, **passkwargs)\n"
     ]
    },
    {
     "name": "stderr",
     "output_type": "stream",
     "text": [
      "  1%|          | 197/28214 [00:07<15:49, 29.52it/s]"
     ]
    },
    {
     "name": "stdout",
     "output_type": "stream",
     "text": [
      "C:\\Users\\noton\\anaconda3\\envs\\adapt1\\lib\\site-packages\\numpy\\core\\fromnumeric.py:86: RuntimeWarning: overflow encountered in reduce\n",
      "  return ufunc.reduce(obj, axis, dtype, out, **passkwargs)\n"
     ]
    },
    {
     "name": "stderr",
     "output_type": "stream",
     "text": [
      "  1%|          | 230/28214 [00:08<11:20, 41.13it/s]"
     ]
    },
    {
     "name": "stdout",
     "output_type": "stream",
     "text": [
      "C:\\Users\\noton\\anaconda3\\envs\\adapt1\\lib\\site-packages\\numpy\\core\\fromnumeric.py:86: RuntimeWarning: overflow encountered in reduce\n",
      "  return ufunc.reduce(obj, axis, dtype, out, **passkwargs)\n",
      "C:\\Users\\noton\\anaconda3\\envs\\adapt1\\lib\\site-packages\\numpy\\core\\fromnumeric.py:86: RuntimeWarning: overflow encountered in reduce\n",
      "  return ufunc.reduce(obj, axis, dtype, out, **passkwargs)\n"
     ]
    },
    {
     "name": "stderr",
     "output_type": "stream",
     "text": [
      "  1%|          | 237/28214 [00:08<14:08, 32.98it/s]"
     ]
    },
    {
     "name": "stdout",
     "output_type": "stream",
     "text": [
      "C:\\Users\\noton\\anaconda3\\envs\\adapt1\\lib\\site-packages\\numpy\\core\\fromnumeric.py:86: RuntimeWarning: overflow encountered in reduce\n",
      "  return ufunc.reduce(obj, axis, dtype, out, **passkwargs)\n",
      "C:\\Users\\noton\\anaconda3\\envs\\adapt1\\lib\\site-packages\\numpy\\core\\fromnumeric.py:86: RuntimeWarning: overflow encountered in reduce\n",
      "  return ufunc.reduce(obj, axis, dtype, out, **passkwargs)\n"
     ]
    },
    {
     "name": "stderr",
     "output_type": "stream",
     "text": [
      "  2%|▏         | 629/28214 [00:18<09:43, 47.24it/s]"
     ]
    },
    {
     "name": "stdout",
     "output_type": "stream",
     "text": [
      "C:\\Users\\noton\\anaconda3\\envs\\adapt1\\lib\\site-packages\\numpy\\core\\fromnumeric.py:86: RuntimeWarning: overflow encountered in reduce\n",
      "  return ufunc.reduce(obj, axis, dtype, out, **passkwargs)\n"
     ]
    },
    {
     "name": "stderr",
     "output_type": "stream",
     "text": [
      "100%|██████████| 28214/28214 [20:25<00:00, 23.03it/s]\n"
     ]
    },
    {
     "data": {
      "text/html": [
       "<div>\n",
       "<style scoped>\n",
       "    .dataframe tbody tr th:only-of-type {\n",
       "        vertical-align: middle;\n",
       "    }\n",
       "\n",
       "    .dataframe tbody tr th {\n",
       "        vertical-align: top;\n",
       "    }\n",
       "\n",
       "    .dataframe thead th {\n",
       "        text-align: right;\n",
       "    }\n",
       "</style>\n",
       "<table border=\"1\" class=\"dataframe\">\n",
       "  <thead>\n",
       "    <tr style=\"text-align: right;\">\n",
       "      <th></th>\n",
       "      <th>ABC</th>\n",
       "      <th>ABCGG</th>\n",
       "      <th>nAcid</th>\n",
       "      <th>nBase</th>\n",
       "      <th>SpAbs_A</th>\n",
       "      <th>SpMax_A</th>\n",
       "      <th>SpDiam_A</th>\n",
       "      <th>SpAD_A</th>\n",
       "      <th>SpMAD_A</th>\n",
       "      <th>LogEE_A</th>\n",
       "      <th>...</th>\n",
       "      <th>SRW10</th>\n",
       "      <th>TSRW10</th>\n",
       "      <th>MW</th>\n",
       "      <th>AMW</th>\n",
       "      <th>WPath</th>\n",
       "      <th>WPol</th>\n",
       "      <th>Zagreb1</th>\n",
       "      <th>Zagreb2</th>\n",
       "      <th>mZagreb1</th>\n",
       "      <th>mZagreb2</th>\n",
       "    </tr>\n",
       "  </thead>\n",
       "  <tbody>\n",
       "    <tr>\n",
       "      <th>0</th>\n",
       "      <td>12.784941</td>\n",
       "      <td>11.306906</td>\n",
       "      <td>0.0</td>\n",
       "      <td>0.0</td>\n",
       "      <td>21.099587</td>\n",
       "      <td>2.465486</td>\n",
       "      <td>4.800181</td>\n",
       "      <td>21.099587</td>\n",
       "      <td>1.318724</td>\n",
       "      <td>3.738438</td>\n",
       "      <td>...</td>\n",
       "      <td>9.754233</td>\n",
       "      <td>64.677355</td>\n",
       "      <td>230.014998</td>\n",
       "      <td>10.455227</td>\n",
       "      <td>418.0</td>\n",
       "      <td>23.0</td>\n",
       "      <td>88.0</td>\n",
       "      <td>106.0</td>\n",
       "      <td>4.666667</td>\n",
       "      <td>3.444444</td>\n",
       "    </tr>\n",
       "    <tr>\n",
       "      <th>1</th>\n",
       "      <td>9.607534</td>\n",
       "      <td>8.765714</td>\n",
       "      <td>0.0</td>\n",
       "      <td>1.0</td>\n",
       "      <td>15.185460</td>\n",
       "      <td>2.321935</td>\n",
       "      <td>4.643870</td>\n",
       "      <td>15.185460</td>\n",
       "      <td>1.168112</td>\n",
       "      <td>3.457903</td>\n",
       "      <td>...</td>\n",
       "      <td>9.278653</td>\n",
       "      <td>43.923001</td>\n",
       "      <td>199.066700</td>\n",
       "      <td>7.656412</td>\n",
       "      <td>262.0</td>\n",
       "      <td>16.0</td>\n",
       "      <td>62.0</td>\n",
       "      <td>68.0</td>\n",
       "      <td>5.784722</td>\n",
       "      <td>2.916667</td>\n",
       "    </tr>\n",
       "    <tr>\n",
       "      <th>2</th>\n",
       "      <td>20.849242</td>\n",
       "      <td>16.631104</td>\n",
       "      <td>0.0</td>\n",
       "      <td>0.0</td>\n",
       "      <td>34.706954</td>\n",
       "      <td>2.575194</td>\n",
       "      <td>5.044330</td>\n",
       "      <td>34.706954</td>\n",
       "      <td>1.388278</td>\n",
       "      <td>4.221171</td>\n",
       "      <td>...</td>\n",
       "      <td>10.485731</td>\n",
       "      <td>77.987666</td>\n",
       "      <td>374.000611</td>\n",
       "      <td>10.685732</td>\n",
       "      <td>1295.0</td>\n",
       "      <td>45.0</td>\n",
       "      <td>150.0</td>\n",
       "      <td>189.0</td>\n",
       "      <td>4.861111</td>\n",
       "      <td>5.250000</td>\n",
       "    </tr>\n",
       "    <tr>\n",
       "      <th>3</th>\n",
       "      <td>25.011003</td>\n",
       "      <td>19.555614</td>\n",
       "      <td>0.0</td>\n",
       "      <td>0.0</td>\n",
       "      <td>41.657614</td>\n",
       "      <td>2.593815</td>\n",
       "      <td>5.073291</td>\n",
       "      <td>41.657614</td>\n",
       "      <td>1.388587</td>\n",
       "      <td>4.401414</td>\n",
       "      <td>...</td>\n",
       "      <td>10.653086</td>\n",
       "      <td>84.662224</td>\n",
       "      <td>458.999231</td>\n",
       "      <td>10.674401</td>\n",
       "      <td>2180.0</td>\n",
       "      <td>54.0</td>\n",
       "      <td>180.0</td>\n",
       "      <td>227.0</td>\n",
       "      <td>5.833333</td>\n",
       "      <td>6.305556</td>\n",
       "    </tr>\n",
       "    <tr>\n",
       "      <th>4</th>\n",
       "      <td>26.682387</td>\n",
       "      <td>19.363781</td>\n",
       "      <td>0.0</td>\n",
       "      <td>0.0</td>\n",
       "      <td>45.470608</td>\n",
       "      <td>2.521928</td>\n",
       "      <td>5.029415</td>\n",
       "      <td>45.470608</td>\n",
       "      <td>1.377897</td>\n",
       "      <td>4.461703</td>\n",
       "      <td>...</td>\n",
       "      <td>10.656247</td>\n",
       "      <td>84.190602</td>\n",
       "      <td>444.127917</td>\n",
       "      <td>8.224591</td>\n",
       "      <td>3115.0</td>\n",
       "      <td>60.0</td>\n",
       "      <td>186.0</td>\n",
       "      <td>228.0</td>\n",
       "      <td>7.562500</td>\n",
       "      <td>7.111111</td>\n",
       "    </tr>\n",
       "    <tr>\n",
       "      <th>...</th>\n",
       "      <td>...</td>\n",
       "      <td>...</td>\n",
       "      <td>...</td>\n",
       "      <td>...</td>\n",
       "      <td>...</td>\n",
       "      <td>...</td>\n",
       "      <td>...</td>\n",
       "      <td>...</td>\n",
       "      <td>...</td>\n",
       "      <td>...</td>\n",
       "      <td>...</td>\n",
       "      <td>...</td>\n",
       "      <td>...</td>\n",
       "      <td>...</td>\n",
       "      <td>...</td>\n",
       "      <td>...</td>\n",
       "      <td>...</td>\n",
       "      <td>...</td>\n",
       "      <td>...</td>\n",
       "      <td>...</td>\n",
       "      <td>...</td>\n",
       "    </tr>\n",
       "    <tr>\n",
       "      <th>28209</th>\n",
       "      <td>32.708297</td>\n",
       "      <td>23.407049</td>\n",
       "      <td>0.0</td>\n",
       "      <td>1.0</td>\n",
       "      <td>55.258432</td>\n",
       "      <td>2.559919</td>\n",
       "      <td>5.017663</td>\n",
       "      <td>55.258432</td>\n",
       "      <td>1.381461</td>\n",
       "      <td>4.667890</td>\n",
       "      <td>...</td>\n",
       "      <td>10.878707</td>\n",
       "      <td>95.214299</td>\n",
       "      <td>528.216141</td>\n",
       "      <td>7.767884</td>\n",
       "      <td>5544.0</td>\n",
       "      <td>74.0</td>\n",
       "      <td>232.0</td>\n",
       "      <td>289.0</td>\n",
       "      <td>8.666667</td>\n",
       "      <td>8.611111</td>\n",
       "    </tr>\n",
       "    <tr>\n",
       "      <th>28210</th>\n",
       "      <td>39.986214</td>\n",
       "      <td>28.154646</td>\n",
       "      <td>0.0</td>\n",
       "      <td>0.0</td>\n",
       "      <td>66.837288</td>\n",
       "      <td>2.575711</td>\n",
       "      <td>5.042815</td>\n",
       "      <td>66.837288</td>\n",
       "      <td>1.364026</td>\n",
       "      <td>4.862794</td>\n",
       "      <td>...</td>\n",
       "      <td>11.057771</td>\n",
       "      <td>105.158967</td>\n",
       "      <td>647.289640</td>\n",
       "      <td>7.526624</td>\n",
       "      <td>9225.0</td>\n",
       "      <td>91.0</td>\n",
       "      <td>282.0</td>\n",
       "      <td>349.0</td>\n",
       "      <td>11.861111</td>\n",
       "      <td>10.444444</td>\n",
       "    </tr>\n",
       "    <tr>\n",
       "      <th>28211</th>\n",
       "      <td>22.453726</td>\n",
       "      <td>17.283941</td>\n",
       "      <td>0.0</td>\n",
       "      <td>0.0</td>\n",
       "      <td>38.043057</td>\n",
       "      <td>2.506451</td>\n",
       "      <td>4.930011</td>\n",
       "      <td>38.043057</td>\n",
       "      <td>1.358681</td>\n",
       "      <td>4.294932</td>\n",
       "      <td>...</td>\n",
       "      <td>10.385759</td>\n",
       "      <td>79.673155</td>\n",
       "      <td>368.079707</td>\n",
       "      <td>9.201993</td>\n",
       "      <td>2040.0</td>\n",
       "      <td>47.0</td>\n",
       "      <td>156.0</td>\n",
       "      <td>190.0</td>\n",
       "      <td>7.111111</td>\n",
       "      <td>6.111111</td>\n",
       "    </tr>\n",
       "    <tr>\n",
       "      <th>28212</th>\n",
       "      <td>38.434101</td>\n",
       "      <td>24.885273</td>\n",
       "      <td>0.0</td>\n",
       "      <td>0.0</td>\n",
       "      <td>64.805014</td>\n",
       "      <td>2.556794</td>\n",
       "      <td>4.983538</td>\n",
       "      <td>64.805014</td>\n",
       "      <td>1.378830</td>\n",
       "      <td>4.825148</td>\n",
       "      <td>...</td>\n",
       "      <td>11.012232</td>\n",
       "      <td>103.080664</td>\n",
       "      <td>609.168856</td>\n",
       "      <td>8.702412</td>\n",
       "      <td>9427.0</td>\n",
       "      <td>87.0</td>\n",
       "      <td>272.0</td>\n",
       "      <td>337.0</td>\n",
       "      <td>10.750000</td>\n",
       "      <td>10.055556</td>\n",
       "    </tr>\n",
       "    <tr>\n",
       "      <th>28213</th>\n",
       "      <td>45.482911</td>\n",
       "      <td>32.407487</td>\n",
       "      <td>0.0</td>\n",
       "      <td>0.0</td>\n",
       "      <td>74.349730</td>\n",
       "      <td>2.540950</td>\n",
       "      <td>5.076334</td>\n",
       "      <td>74.349730</td>\n",
       "      <td>1.304381</td>\n",
       "      <td>4.988947</td>\n",
       "      <td>...</td>\n",
       "      <td>11.144308</td>\n",
       "      <td>110.055490</td>\n",
       "      <td>746.306436</td>\n",
       "      <td>7.774025</td>\n",
       "      <td>13237.0</td>\n",
       "      <td>106.0</td>\n",
       "      <td>316.0</td>\n",
       "      <td>384.0</td>\n",
       "      <td>17.805556</td>\n",
       "      <td>12.277778</td>\n",
       "    </tr>\n",
       "  </tbody>\n",
       "</table>\n",
       "<p>28214 rows × 1613 columns</p>\n",
       "</div>"
      ],
      "text/plain": [
       "             ABC      ABCGG  nAcid  nBase    SpAbs_A   SpMax_A  SpDiam_A  \\\n",
       "0      12.784941  11.306906    0.0    0.0  21.099587  2.465486  4.800181   \n",
       "1       9.607534   8.765714    0.0    1.0  15.185460  2.321935  4.643870   \n",
       "2      20.849242  16.631104    0.0    0.0  34.706954  2.575194  5.044330   \n",
       "3      25.011003  19.555614    0.0    0.0  41.657614  2.593815  5.073291   \n",
       "4      26.682387  19.363781    0.0    0.0  45.470608  2.521928  5.029415   \n",
       "...          ...        ...    ...    ...        ...       ...       ...   \n",
       "28209  32.708297  23.407049    0.0    1.0  55.258432  2.559919  5.017663   \n",
       "28210  39.986214  28.154646    0.0    0.0  66.837288  2.575711  5.042815   \n",
       "28211  22.453726  17.283941    0.0    0.0  38.043057  2.506451  4.930011   \n",
       "28212  38.434101  24.885273    0.0    0.0  64.805014  2.556794  4.983538   \n",
       "28213  45.482911  32.407487    0.0    0.0  74.349730  2.540950  5.076334   \n",
       "\n",
       "          SpAD_A   SpMAD_A   LogEE_A  ...      SRW10      TSRW10          MW  \\\n",
       "0      21.099587  1.318724  3.738438  ...   9.754233   64.677355  230.014998   \n",
       "1      15.185460  1.168112  3.457903  ...   9.278653   43.923001  199.066700   \n",
       "2      34.706954  1.388278  4.221171  ...  10.485731   77.987666  374.000611   \n",
       "3      41.657614  1.388587  4.401414  ...  10.653086   84.662224  458.999231   \n",
       "4      45.470608  1.377897  4.461703  ...  10.656247   84.190602  444.127917   \n",
       "...          ...       ...       ...  ...        ...         ...         ...   \n",
       "28209  55.258432  1.381461  4.667890  ...  10.878707   95.214299  528.216141   \n",
       "28210  66.837288  1.364026  4.862794  ...  11.057771  105.158967  647.289640   \n",
       "28211  38.043057  1.358681  4.294932  ...  10.385759   79.673155  368.079707   \n",
       "28212  64.805014  1.378830  4.825148  ...  11.012232  103.080664  609.168856   \n",
       "28213  74.349730  1.304381  4.988947  ...  11.144308  110.055490  746.306436   \n",
       "\n",
       "             AMW    WPath   WPol  Zagreb1  Zagreb2   mZagreb1   mZagreb2  \n",
       "0      10.455227    418.0   23.0     88.0    106.0   4.666667   3.444444  \n",
       "1       7.656412    262.0   16.0     62.0     68.0   5.784722   2.916667  \n",
       "2      10.685732   1295.0   45.0    150.0    189.0   4.861111   5.250000  \n",
       "3      10.674401   2180.0   54.0    180.0    227.0   5.833333   6.305556  \n",
       "4       8.224591   3115.0   60.0    186.0    228.0   7.562500   7.111111  \n",
       "...          ...      ...    ...      ...      ...        ...        ...  \n",
       "28209   7.767884   5544.0   74.0    232.0    289.0   8.666667   8.611111  \n",
       "28210   7.526624   9225.0   91.0    282.0    349.0  11.861111  10.444444  \n",
       "28211   9.201993   2040.0   47.0    156.0    190.0   7.111111   6.111111  \n",
       "28212   8.702412   9427.0   87.0    272.0    337.0  10.750000  10.055556  \n",
       "28213   7.774025  13237.0  106.0    316.0    384.0  17.805556  12.277778  \n",
       "\n",
       "[28214 rows x 1613 columns]"
      ]
     },
     "execution_count": 4,
     "metadata": {},
     "output_type": "execute_result"
    }
   ],
   "source": [
    "data['Mol'] = data['SMILES'].apply(Chem.MolFromSmiles)\n",
    "calc_mordred = Calculator(descriptors, ignore_3D=True)\n",
    "desc_mordred = calc_mordred.pandas(data['Mol'])\n",
    "mordred = desc_mordred.astype(str)\n",
    "masks = mordred.apply(lambda d: d.str.contains('[a-zA-Z]' ,na=False))\n",
    "mordred = mordred[~masks]\n",
    "mordred = mordred.astype(float)\n",
    "\n",
    "mordred"
   ]
  },
  {
   "cell_type": "code",
   "execution_count": 5,
   "id": "19364cd5",
   "metadata": {},
   "outputs": [],
   "source": [
    "mordred.to_csv('result/mordred_ai.csv', index=False)"
   ]
  },
  {
   "cell_type": "code",
   "execution_count": null,
   "id": "da8e582d",
   "metadata": {},
   "outputs": [],
   "source": []
  }
 ],
 "metadata": {
  "kernelspec": {
   "display_name": "Python 3 (ipykernel)",
   "language": "python",
   "name": "python3"
  },
  "language_info": {
   "codemirror_mode": {
    "name": "ipython",
    "version": 3
   },
   "file_extension": ".py",
   "mimetype": "text/x-python",
   "name": "python",
   "nbconvert_exporter": "python",
   "pygments_lexer": "ipython3",
   "version": "3.7.16"
  }
 },
 "nbformat": 4,
 "nbformat_minor": 5
}

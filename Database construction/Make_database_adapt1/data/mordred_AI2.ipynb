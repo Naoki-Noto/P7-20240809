{
 "cells": [
  {
   "cell_type": "code",
   "execution_count": 1,
   "id": "8759fb82",
   "metadata": {},
   "outputs": [],
   "source": [
    "import pandas as pd\n",
    "import numpy as np\n",
    "from rdkit import Chem\n",
    "from rdkit.Chem import AllChem\n",
    "from mordred import Calculator, descriptors"
   ]
  },
  {
   "cell_type": "code",
   "execution_count": 2,
   "id": "033269e5",
   "metadata": {},
   "outputs": [],
   "source": [
    "def remove_all_zero_col(data):\n",
    "    data = data.copy()\n",
    "    for col in data.columns:\n",
    "        if (data[col] == 0).all():\n",
    "            data.drop(col, axis=1, inplace=True)\n",
    "    return data"
   ]
  },
  {
   "cell_type": "code",
   "execution_count": 3,
   "id": "cc61c95e",
   "metadata": {},
   "outputs": [
    {
     "data": {
      "text/plain": [
       "0                          CN(C)c1ccc(-c2ccc(N(C)C)cc2)cc1\n",
       "1          CN(C)c1ccc(-c2ccc(N(C)C)cc2-c2ccc(N(C)C)cc2)cc1\n",
       "2                     CN(C)c1ccc(-c2ccc(C=C(C#N)C#N)s2)cc1\n",
       "3        CN(C)c1ccc(-c2cc(N(C)C)ccc2-c2ccc(C=C(C#N)C#N)...\n",
       "4        CN(C)c1ccc(-c2cc(N(C)C)ccc2-c2cc(N(C)C)ccc2-c2...\n",
       "                               ...                        \n",
       "26085    CN(Cc1ccc2c(c1)sc1ncccc12)c1ccc(-c2c(F)c(F)c(F...\n",
       "26086    CN(C)c1ccc(-c2c(F)c(F)c(F)c(F)c2F)c(-c2ccc(N(C...\n",
       "26087    CN(C)c1ccc(-c2c(-c3c(F)c(F)c(F)c(F)c3F)ccc(N(C...\n",
       "26088    CN(C)c1cc(-c2c(F)c(F)c(F)c(F)c2F)cc(N(c2ccccc2...\n",
       "26089    CN(C)c1ccc(-c2c(-c3c(F)c(F)c(F)c(F)c3F)ccc(N(C...\n",
       "Name: SMILES, Length: 26090, dtype: object"
      ]
     },
     "execution_count": 3,
     "metadata": {},
     "output_type": "execute_result"
    }
   ],
   "source": [
    "data = pd.read_csv(\"source/smiles_e01.csv\")\n",
    "smiles = data['SMILES']\n",
    "smiles"
   ]
  },
  {
   "cell_type": "code",
   "execution_count": 4,
   "id": "02aa1c39",
   "metadata": {},
   "outputs": [
    {
     "name": "stderr",
     "output_type": "stream",
     "text": [
      "  0%|                                                                               | 19/26090 [00:03<55:22,  7.85it/s]"
     ]
    },
    {
     "name": "stdout",
     "output_type": "stream",
     "text": [
      "C:\\Users\\noton\\miniconda3\\envs\\adapt1\\lib\\site-packages\\numpy\\core\\fromnumeric.py:86: RuntimeWarning: overflow encountered in reduce\n",
      "  return ufunc.reduce(obj, axis, dtype, out, **passkwargs)\n"
     ]
    },
    {
     "name": "stderr",
     "output_type": "stream",
     "text": [
      "  0%|▎                                                                             | 108/26090 [00:07<22:20, 19.38it/s]"
     ]
    },
    {
     "name": "stdout",
     "output_type": "stream",
     "text": [
      "C:\\Users\\noton\\miniconda3\\envs\\adapt1\\lib\\site-packages\\numpy\\core\\fromnumeric.py:86: RuntimeWarning: overflow encountered in reduce\n",
      "  return ufunc.reduce(obj, axis, dtype, out, **passkwargs)\n"
     ]
    },
    {
     "name": "stderr",
     "output_type": "stream",
     "text": [
      "  0%|▎                                                                             | 112/26090 [00:08<25:54, 16.71it/s]"
     ]
    },
    {
     "name": "stdout",
     "output_type": "stream",
     "text": [
      "C:\\Users\\noton\\miniconda3\\envs\\adapt1\\lib\\site-packages\\numpy\\core\\fromnumeric.py:86: RuntimeWarning: overflow encountered in reduce\n",
      "  return ufunc.reduce(obj, axis, dtype, out, **passkwargs)\n"
     ]
    },
    {
     "name": "stderr",
     "output_type": "stream",
     "text": [
      "  0%|▎                                                                             | 119/26090 [00:08<30:43, 14.09it/s]"
     ]
    },
    {
     "name": "stdout",
     "output_type": "stream",
     "text": [
      "C:\\Users\\noton\\miniconda3\\envs\\adapt1\\lib\\site-packages\\numpy\\core\\fromnumeric.py:86: RuntimeWarning: overflow encountered in reduce\n",
      "  return ufunc.reduce(obj, axis, dtype, out, **passkwargs)\n"
     ]
    },
    {
     "name": "stderr",
     "output_type": "stream",
     "text": [
      "  1%|▋                                                                             | 222/26090 [00:13<21:09, 20.38it/s]"
     ]
    },
    {
     "name": "stdout",
     "output_type": "stream",
     "text": [
      "C:\\Users\\noton\\miniconda3\\envs\\adapt1\\lib\\site-packages\\numpy\\core\\fromnumeric.py:86: RuntimeWarning: overflow encountered in reduce\n",
      "  return ufunc.reduce(obj, axis, dtype, out, **passkwargs)\n"
     ]
    },
    {
     "name": "stderr",
     "output_type": "stream",
     "text": [
      "  1%|▋                                                                             | 246/26090 [00:14<18:22, 23.44it/s]"
     ]
    },
    {
     "name": "stdout",
     "output_type": "stream",
     "text": [
      "C:\\Users\\noton\\miniconda3\\envs\\adapt1\\lib\\site-packages\\numpy\\core\\fromnumeric.py:86: RuntimeWarning: overflow encountered in reduce\n",
      "  return ufunc.reduce(obj, axis, dtype, out, **passkwargs)\n"
     ]
    },
    {
     "name": "stderr",
     "output_type": "stream",
     "text": [
      "  1%|▊                                                                             | 252/26090 [00:14<18:52, 22.82it/s]"
     ]
    },
    {
     "name": "stdout",
     "output_type": "stream",
     "text": [
      "C:\\Users\\noton\\miniconda3\\envs\\adapt1\\lib\\site-packages\\numpy\\core\\fromnumeric.py:86: RuntimeWarning: overflow encountered in reduce\n",
      "  return ufunc.reduce(obj, axis, dtype, out, **passkwargs)\n"
     ]
    },
    {
     "name": "stderr",
     "output_type": "stream",
     "text": [
      "  1%|▊                                                                             | 261/26090 [00:15<23:42, 18.15it/s]"
     ]
    },
    {
     "name": "stdout",
     "output_type": "stream",
     "text": [
      "C:\\Users\\noton\\miniconda3\\envs\\adapt1\\lib\\site-packages\\numpy\\core\\fromnumeric.py:86: RuntimeWarning: overflow encountered in reduce\n",
      "  return ufunc.reduce(obj, axis, dtype, out, **passkwargs)\n"
     ]
    },
    {
     "name": "stderr",
     "output_type": "stream",
     "text": [
      "  1%|▉                                                                             | 311/26090 [00:18<23:32, 18.26it/s]"
     ]
    },
    {
     "name": "stdout",
     "output_type": "stream",
     "text": [
      "C:\\Users\\noton\\miniconda3\\envs\\adapt1\\lib\\site-packages\\numpy\\core\\fromnumeric.py:86: RuntimeWarning: overflow encountered in reduce\n",
      "  return ufunc.reduce(obj, axis, dtype, out, **passkwargs)\n"
     ]
    },
    {
     "name": "stderr",
     "output_type": "stream",
     "text": [
      "  1%|▉                                                                             | 316/26090 [00:19<37:36, 11.42it/s]"
     ]
    },
    {
     "name": "stdout",
     "output_type": "stream",
     "text": [
      "C:\\Users\\noton\\miniconda3\\envs\\adapt1\\lib\\site-packages\\numpy\\core\\fromnumeric.py:86: RuntimeWarning: overflow encountered in reduce\n",
      "  return ufunc.reduce(obj, axis, dtype, out, **passkwargs)\n"
     ]
    },
    {
     "name": "stderr",
     "output_type": "stream",
     "text": [
      "  1%|█                                                                             | 343/26090 [00:22<33:06, 12.96it/s]"
     ]
    },
    {
     "name": "stdout",
     "output_type": "stream",
     "text": [
      "C:\\Users\\noton\\miniconda3\\envs\\adapt1\\lib\\site-packages\\numpy\\core\\fromnumeric.py:86: RuntimeWarning: overflow encountered in reduce\n",
      "  return ufunc.reduce(obj, axis, dtype, out, **passkwargs)\n",
      "C:\\Users\\noton\\miniconda3\\envs\\adapt1\\lib\\site-packages\\numpy\\core\\fromnumeric.py:86: RuntimeWarning: overflow encountered in reduce\n",
      "  return ufunc.reduce(obj, axis, dtype, out, **passkwargs)\n"
     ]
    },
    {
     "name": "stderr",
     "output_type": "stream",
     "text": [
      "100%|████████████████████████████████████████████████████████████████████████████| 26090/26090 [50:22<00:00,  8.63it/s]\n"
     ]
    },
    {
     "data": {
      "text/html": [
       "<div>\n",
       "<style scoped>\n",
       "    .dataframe tbody tr th:only-of-type {\n",
       "        vertical-align: middle;\n",
       "    }\n",
       "\n",
       "    .dataframe tbody tr th {\n",
       "        vertical-align: top;\n",
       "    }\n",
       "\n",
       "    .dataframe thead th {\n",
       "        text-align: right;\n",
       "    }\n",
       "</style>\n",
       "<table border=\"1\" class=\"dataframe\">\n",
       "  <thead>\n",
       "    <tr style=\"text-align: right;\">\n",
       "      <th></th>\n",
       "      <th>ABC</th>\n",
       "      <th>ABCGG</th>\n",
       "      <th>nAcid</th>\n",
       "      <th>nBase</th>\n",
       "      <th>SpAbs_A</th>\n",
       "      <th>SpMax_A</th>\n",
       "      <th>SpDiam_A</th>\n",
       "      <th>SpAD_A</th>\n",
       "      <th>SpMAD_A</th>\n",
       "      <th>LogEE_A</th>\n",
       "      <th>...</th>\n",
       "      <th>SRW10</th>\n",
       "      <th>TSRW10</th>\n",
       "      <th>MW</th>\n",
       "      <th>AMW</th>\n",
       "      <th>WPath</th>\n",
       "      <th>WPol</th>\n",
       "      <th>Zagreb1</th>\n",
       "      <th>Zagreb2</th>\n",
       "      <th>mZagreb1</th>\n",
       "      <th>mZagreb2</th>\n",
       "    </tr>\n",
       "  </thead>\n",
       "  <tbody>\n",
       "    <tr>\n",
       "      <th>0</th>\n",
       "      <td>13.751268</td>\n",
       "      <td>11.174438</td>\n",
       "      <td>0.0</td>\n",
       "      <td>0.0</td>\n",
       "      <td>22.772325</td>\n",
       "      <td>2.347941</td>\n",
       "      <td>4.695881</td>\n",
       "      <td>22.772325</td>\n",
       "      <td>1.265129</td>\n",
       "      <td>3.804076</td>\n",
       "      <td>...</td>\n",
       "      <td>9.647240</td>\n",
       "      <td>50.768505</td>\n",
       "      <td>240.162649</td>\n",
       "      <td>6.320070</td>\n",
       "      <td>671.0</td>\n",
       "      <td>26.0</td>\n",
       "      <td>90.0</td>\n",
       "      <td>103.0</td>\n",
       "      <td>6.666667</td>\n",
       "      <td>4.000000</td>\n",
       "    </tr>\n",
       "    <tr>\n",
       "      <th>1</th>\n",
       "      <td>20.919795</td>\n",
       "      <td>16.309248</td>\n",
       "      <td>0.0</td>\n",
       "      <td>0.0</td>\n",
       "      <td>34.360705</td>\n",
       "      <td>2.442429</td>\n",
       "      <td>4.884859</td>\n",
       "      <td>34.360705</td>\n",
       "      <td>1.272619</td>\n",
       "      <td>4.216663</td>\n",
       "      <td>...</td>\n",
       "      <td>10.193130</td>\n",
       "      <td>62.151002</td>\n",
       "      <td>359.236148</td>\n",
       "      <td>6.414931</td>\n",
       "      <td>1884.0</td>\n",
       "      <td>44.0</td>\n",
       "      <td>140.0</td>\n",
       "      <td>164.0</td>\n",
       "      <td>9.861111</td>\n",
       "      <td>5.916667</td>\n",
       "    </tr>\n",
       "    <tr>\n",
       "      <th>2</th>\n",
       "      <td>14.987142</td>\n",
       "      <td>12.791073</td>\n",
       "      <td>0.0</td>\n",
       "      <td>0.0</td>\n",
       "      <td>25.490756</td>\n",
       "      <td>2.369479</td>\n",
       "      <td>4.664554</td>\n",
       "      <td>25.490756</td>\n",
       "      <td>1.274538</td>\n",
       "      <td>3.902730</td>\n",
       "      <td>...</td>\n",
       "      <td>9.642318</td>\n",
       "      <td>66.589086</td>\n",
       "      <td>279.083018</td>\n",
       "      <td>8.457061</td>\n",
       "      <td>922.0</td>\n",
       "      <td>27.0</td>\n",
       "      <td>98.0</td>\n",
       "      <td>112.0</td>\n",
       "      <td>7.166667</td>\n",
       "      <td>4.638889</td>\n",
       "    </tr>\n",
       "    <tr>\n",
       "      <th>3</th>\n",
       "      <td>22.155669</td>\n",
       "      <td>17.919982</td>\n",
       "      <td>0.0</td>\n",
       "      <td>0.0</td>\n",
       "      <td>37.081141</td>\n",
       "      <td>2.452734</td>\n",
       "      <td>4.876763</td>\n",
       "      <td>37.081141</td>\n",
       "      <td>1.278660</td>\n",
       "      <td>4.283043</td>\n",
       "      <td>...</td>\n",
       "      <td>10.190282</td>\n",
       "      <td>77.885647</td>\n",
       "      <td>398.156518</td>\n",
       "      <td>7.806991</td>\n",
       "      <td>2343.0</td>\n",
       "      <td>45.0</td>\n",
       "      <td>148.0</td>\n",
       "      <td>173.0</td>\n",
       "      <td>10.361111</td>\n",
       "      <td>6.555556</td>\n",
       "    </tr>\n",
       "    <tr>\n",
       "      <th>4</th>\n",
       "      <td>29.324196</td>\n",
       "      <td>22.940203</td>\n",
       "      <td>0.0</td>\n",
       "      <td>0.0</td>\n",
       "      <td>48.670321</td>\n",
       "      <td>2.493568</td>\n",
       "      <td>4.973525</td>\n",
       "      <td>48.670321</td>\n",
       "      <td>1.280798</td>\n",
       "      <td>4.557907</td>\n",
       "      <td>...</td>\n",
       "      <td>10.542522</td>\n",
       "      <td>88.447926</td>\n",
       "      <td>517.230017</td>\n",
       "      <td>7.496087</td>\n",
       "      <td>4592.0</td>\n",
       "      <td>63.0</td>\n",
       "      <td>198.0</td>\n",
       "      <td>234.0</td>\n",
       "      <td>13.555556</td>\n",
       "      <td>8.472222</td>\n",
       "    </tr>\n",
       "    <tr>\n",
       "      <th>...</th>\n",
       "      <td>...</td>\n",
       "      <td>...</td>\n",
       "      <td>...</td>\n",
       "      <td>...</td>\n",
       "      <td>...</td>\n",
       "      <td>...</td>\n",
       "      <td>...</td>\n",
       "      <td>...</td>\n",
       "      <td>...</td>\n",
       "      <td>...</td>\n",
       "      <td>...</td>\n",
       "      <td>...</td>\n",
       "      <td>...</td>\n",
       "      <td>...</td>\n",
       "      <td>...</td>\n",
       "      <td>...</td>\n",
       "      <td>...</td>\n",
       "      <td>...</td>\n",
       "      <td>...</td>\n",
       "      <td>...</td>\n",
       "      <td>...</td>\n",
       "    </tr>\n",
       "    <tr>\n",
       "      <th>26085</th>\n",
       "      <td>26.374448</td>\n",
       "      <td>19.211714</td>\n",
       "      <td>0.0</td>\n",
       "      <td>0.0</td>\n",
       "      <td>43.369155</td>\n",
       "      <td>2.489836</td>\n",
       "      <td>4.963846</td>\n",
       "      <td>43.369155</td>\n",
       "      <td>1.314217</td>\n",
       "      <td>4.448845</td>\n",
       "      <td>...</td>\n",
       "      <td>10.624128</td>\n",
       "      <td>84.096217</td>\n",
       "      <td>470.087611</td>\n",
       "      <td>9.793492</td>\n",
       "      <td>3575.0</td>\n",
       "      <td>61.0</td>\n",
       "      <td>184.0</td>\n",
       "      <td>225.0</td>\n",
       "      <td>10.805556</td>\n",
       "      <td>7.055556</td>\n",
       "    </tr>\n",
       "    <tr>\n",
       "      <th>26086</th>\n",
       "      <td>32.623340</td>\n",
       "      <td>26.130410</td>\n",
       "      <td>0.0</td>\n",
       "      <td>0.0</td>\n",
       "      <td>52.507335</td>\n",
       "      <td>2.543171</td>\n",
       "      <td>5.086342</td>\n",
       "      <td>52.507335</td>\n",
       "      <td>1.250175</td>\n",
       "      <td>4.661386</td>\n",
       "      <td>...</td>\n",
       "      <td>10.880516</td>\n",
       "      <td>79.913866</td>\n",
       "      <td>597.182652</td>\n",
       "      <td>9.048222</td>\n",
       "      <td>5980.0</td>\n",
       "      <td>83.0</td>\n",
       "      <td>226.0</td>\n",
       "      <td>276.0</td>\n",
       "      <td>18.222222</td>\n",
       "      <td>9.083333</td>\n",
       "    </tr>\n",
       "    <tr>\n",
       "      <th>26087</th>\n",
       "      <td>35.123598</td>\n",
       "      <td>28.538752</td>\n",
       "      <td>0.0</td>\n",
       "      <td>0.0</td>\n",
       "      <td>57.591264</td>\n",
       "      <td>2.566444</td>\n",
       "      <td>5.132887</td>\n",
       "      <td>57.591264</td>\n",
       "      <td>1.279806</td>\n",
       "      <td>4.735595</td>\n",
       "      <td>...</td>\n",
       "      <td>10.928435</td>\n",
       "      <td>83.212920</td>\n",
       "      <td>616.262538</td>\n",
       "      <td>7.900802</td>\n",
       "      <td>6038.0</td>\n",
       "      <td>87.0</td>\n",
       "      <td>242.0</td>\n",
       "      <td>295.0</td>\n",
       "      <td>16.861111</td>\n",
       "      <td>9.833333</td>\n",
       "    </tr>\n",
       "    <tr>\n",
       "      <th>26088</th>\n",
       "      <td>27.995511</td>\n",
       "      <td>23.302191</td>\n",
       "      <td>0.0</td>\n",
       "      <td>0.0</td>\n",
       "      <td>45.837159</td>\n",
       "      <td>2.534827</td>\n",
       "      <td>5.069653</td>\n",
       "      <td>45.837159</td>\n",
       "      <td>1.273254</td>\n",
       "      <td>4.510830</td>\n",
       "      <td>...</td>\n",
       "      <td>10.682331</td>\n",
       "      <td>73.032535</td>\n",
       "      <td>497.189039</td>\n",
       "      <td>8.286484</td>\n",
       "      <td>3455.0</td>\n",
       "      <td>68.0</td>\n",
       "      <td>192.0</td>\n",
       "      <td>233.0</td>\n",
       "      <td>13.666667</td>\n",
       "      <td>7.888889</td>\n",
       "    </tr>\n",
       "    <tr>\n",
       "      <th>26089</th>\n",
       "      <td>42.699572</td>\n",
       "      <td>31.782477</td>\n",
       "      <td>0.0</td>\n",
       "      <td>0.0</td>\n",
       "      <td>70.183248</td>\n",
       "      <td>2.583212</td>\n",
       "      <td>5.166425</td>\n",
       "      <td>70.183248</td>\n",
       "      <td>1.299690</td>\n",
       "      <td>4.933382</td>\n",
       "      <td>...</td>\n",
       "      <td>11.242441</td>\n",
       "      <td>93.490731</td>\n",
       "      <td>727.248285</td>\n",
       "      <td>8.657718</td>\n",
       "      <td>10500.0</td>\n",
       "      <td>113.0</td>\n",
       "      <td>302.0</td>\n",
       "      <td>376.0</td>\n",
       "      <td>19.777778</td>\n",
       "      <td>11.722222</td>\n",
       "    </tr>\n",
       "  </tbody>\n",
       "</table>\n",
       "<p>26090 rows × 1613 columns</p>\n",
       "</div>"
      ],
      "text/plain": [
       "             ABC      ABCGG  nAcid  nBase    SpAbs_A   SpMax_A  SpDiam_A  \\\n",
       "0      13.751268  11.174438    0.0    0.0  22.772325  2.347941  4.695881   \n",
       "1      20.919795  16.309248    0.0    0.0  34.360705  2.442429  4.884859   \n",
       "2      14.987142  12.791073    0.0    0.0  25.490756  2.369479  4.664554   \n",
       "3      22.155669  17.919982    0.0    0.0  37.081141  2.452734  4.876763   \n",
       "4      29.324196  22.940203    0.0    0.0  48.670321  2.493568  4.973525   \n",
       "...          ...        ...    ...    ...        ...       ...       ...   \n",
       "26085  26.374448  19.211714    0.0    0.0  43.369155  2.489836  4.963846   \n",
       "26086  32.623340  26.130410    0.0    0.0  52.507335  2.543171  5.086342   \n",
       "26087  35.123598  28.538752    0.0    0.0  57.591264  2.566444  5.132887   \n",
       "26088  27.995511  23.302191    0.0    0.0  45.837159  2.534827  5.069653   \n",
       "26089  42.699572  31.782477    0.0    0.0  70.183248  2.583212  5.166425   \n",
       "\n",
       "          SpAD_A   SpMAD_A   LogEE_A  ...      SRW10     TSRW10          MW  \\\n",
       "0      22.772325  1.265129  3.804076  ...   9.647240  50.768505  240.162649   \n",
       "1      34.360705  1.272619  4.216663  ...  10.193130  62.151002  359.236148   \n",
       "2      25.490756  1.274538  3.902730  ...   9.642318  66.589086  279.083018   \n",
       "3      37.081141  1.278660  4.283043  ...  10.190282  77.885647  398.156518   \n",
       "4      48.670321  1.280798  4.557907  ...  10.542522  88.447926  517.230017   \n",
       "...          ...       ...       ...  ...        ...        ...         ...   \n",
       "26085  43.369155  1.314217  4.448845  ...  10.624128  84.096217  470.087611   \n",
       "26086  52.507335  1.250175  4.661386  ...  10.880516  79.913866  597.182652   \n",
       "26087  57.591264  1.279806  4.735595  ...  10.928435  83.212920  616.262538   \n",
       "26088  45.837159  1.273254  4.510830  ...  10.682331  73.032535  497.189039   \n",
       "26089  70.183248  1.299690  4.933382  ...  11.242441  93.490731  727.248285   \n",
       "\n",
       "            AMW    WPath   WPol  Zagreb1  Zagreb2   mZagreb1   mZagreb2  \n",
       "0      6.320070    671.0   26.0     90.0    103.0   6.666667   4.000000  \n",
       "1      6.414931   1884.0   44.0    140.0    164.0   9.861111   5.916667  \n",
       "2      8.457061    922.0   27.0     98.0    112.0   7.166667   4.638889  \n",
       "3      7.806991   2343.0   45.0    148.0    173.0  10.361111   6.555556  \n",
       "4      7.496087   4592.0   63.0    198.0    234.0  13.555556   8.472222  \n",
       "...         ...      ...    ...      ...      ...        ...        ...  \n",
       "26085  9.793492   3575.0   61.0    184.0    225.0  10.805556   7.055556  \n",
       "26086  9.048222   5980.0   83.0    226.0    276.0  18.222222   9.083333  \n",
       "26087  7.900802   6038.0   87.0    242.0    295.0  16.861111   9.833333  \n",
       "26088  8.286484   3455.0   68.0    192.0    233.0  13.666667   7.888889  \n",
       "26089  8.657718  10500.0  113.0    302.0    376.0  19.777778  11.722222  \n",
       "\n",
       "[26090 rows x 1613 columns]"
      ]
     },
     "execution_count": 4,
     "metadata": {},
     "output_type": "execute_result"
    }
   ],
   "source": [
    "data['Mol'] = data['SMILES'].apply(Chem.MolFromSmiles)\n",
    "calc_mordred = Calculator(descriptors, ignore_3D=True)\n",
    "desc_mordred = calc_mordred.pandas(data['Mol'])\n",
    "mordred = desc_mordred.astype(str)\n",
    "masks = mordred.apply(lambda d: d.str.contains('[a-zA-Z]' ,na=False))\n",
    "mordred = mordred[~masks]\n",
    "mordred = mordred.astype(float)\n",
    "\n",
    "mordred"
   ]
  },
  {
   "cell_type": "code",
   "execution_count": 5,
   "id": "19364cd5",
   "metadata": {},
   "outputs": [],
   "source": [
    "mordred.to_csv('result/mordred_ai2.csv', index=False)"
   ]
  },
  {
   "cell_type": "code",
   "execution_count": null,
   "id": "da8e582d",
   "metadata": {},
   "outputs": [],
   "source": []
  }
 ],
 "metadata": {
  "kernelspec": {
   "display_name": "Python 3 (ipykernel)",
   "language": "python",
   "name": "python3"
  },
  "language_info": {
   "codemirror_mode": {
    "name": "ipython",
    "version": 3
   },
   "file_extension": ".py",
   "mimetype": "text/x-python",
   "name": "python",
   "nbconvert_exporter": "python",
   "pygments_lexer": "ipython3",
   "version": "3.7.16"
  }
 },
 "nbformat": 4,
 "nbformat_minor": 5
}

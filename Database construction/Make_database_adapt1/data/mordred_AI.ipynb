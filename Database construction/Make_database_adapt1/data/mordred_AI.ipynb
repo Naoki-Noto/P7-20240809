{
 "cells": [
  {
   "cell_type": "code",
   "execution_count": 1,
   "id": "8759fb82",
   "metadata": {},
   "outputs": [],
   "source": [
    "import pandas as pd\n",
    "import numpy as np\n",
    "from rdkit import Chem\n",
    "from rdkit.Chem import AllChem\n",
    "from mordred import Calculator, descriptors"
   ]
  },
  {
   "cell_type": "code",
   "execution_count": 2,
   "id": "033269e5",
   "metadata": {},
   "outputs": [],
   "source": [
    "def remove_all_zero_col(data):\n",
    "    data = data.copy()\n",
    "    for col in data.columns:\n",
    "        if (data[col] == 0).all():\n",
    "            data.drop(col, axis=1, inplace=True)\n",
    "    return data"
   ]
  },
  {
   "cell_type": "code",
   "execution_count": 3,
   "id": "cc61c95e",
   "metadata": {},
   "outputs": [
    {
     "data": {
      "text/plain": [
       "0                            O=C1NC(=O)c2cc(-c3cncs3)ccc21\n",
       "1                                  CNCc1ccc(S(C)(=O)=O)cc1\n",
       "2               c1ccc2c(c1)sc1c(-c3c4ncsc4cc4ncsc34)cccc12\n",
       "3        C1=Nc2c(cc3ncsc3c2-c2cccc3c2sc2ccccc23)[SH]1c1...\n",
       "4        O=P(c1ccccc1)(c1ccccc1)c1cccc(-c2ccc3c(c2)oc2c...\n",
       "                               ...                        \n",
       "25867    Cc1cc(-c2occc2C2=CC(=O)C=CC2=O)cc(C)c1B1c2cccc...\n",
       "25868    Cc1cc(-c2ccco2)cc(C)c1B1c2ccccc2B(c2c(C)ccc(-n...\n",
       "25869    Cc1cccc(C)c1B1c2ccccc2B(c2c(C)ccc(-c3ccc4cccc5...\n",
       "25870    Cc1cccc(C)c1B1c2ccccc2B(c2c(C)c(-c3c(F)c(F)c(F...\n",
       "25871    Cc1cccc(C)c1B1c2ccccc2B(c2c(C)c(-c3c(F)c(F)c(F...\n",
       "Name: SMILES, Length: 25872, dtype: object"
      ]
     },
     "execution_count": 3,
     "metadata": {},
     "output_type": "execute_result"
    }
   ],
   "source": [
    "data = pd.read_csv(\"source/smiles_e1_01.csv\")\n",
    "smiles = data['SMILES']\n",
    "smiles"
   ]
  },
  {
   "cell_type": "code",
   "execution_count": 4,
   "id": "02aa1c39",
   "metadata": {},
   "outputs": [
    {
     "name": "stderr",
     "output_type": "stream",
     "text": [
      "  0%|▏                                                                            | 48/25872 [00:11<1:18:47,  5.46it/s]"
     ]
    },
    {
     "name": "stdout",
     "output_type": "stream",
     "text": [
      "C:\\Users\\noton\\miniconda3\\envs\\adapt1\\lib\\site-packages\\numpy\\core\\fromnumeric.py:86: RuntimeWarning: overflow encountered in reduce\n",
      "  return ufunc.reduce(obj, axis, dtype, out, **passkwargs)\n"
     ]
    },
    {
     "name": "stderr",
     "output_type": "stream",
     "text": [
      "  0%|▏                                                                              | 67/25872 [00:12<33:41, 12.76it/s]"
     ]
    },
    {
     "name": "stdout",
     "output_type": "stream",
     "text": [
      "C:\\Users\\noton\\miniconda3\\envs\\adapt1\\lib\\site-packages\\numpy\\core\\fromnumeric.py:86: RuntimeWarning: overflow encountered in reduce\n",
      "  return ufunc.reduce(obj, axis, dtype, out, **passkwargs)\n"
     ]
    },
    {
     "name": "stderr",
     "output_type": "stream",
     "text": [
      "  0%|▏                                                                              | 74/25872 [00:13<38:09, 11.27it/s]"
     ]
    },
    {
     "name": "stdout",
     "output_type": "stream",
     "text": [
      "C:\\Users\\noton\\miniconda3\\envs\\adapt1\\lib\\site-packages\\numpy\\core\\fromnumeric.py:86: RuntimeWarning: overflow encountered in reduce\n",
      "  return ufunc.reduce(obj, axis, dtype, out, **passkwargs)\n"
     ]
    },
    {
     "name": "stderr",
     "output_type": "stream",
     "text": [
      "  0%|▎                                                                              | 91/25872 [00:15<56:19,  7.63it/s]"
     ]
    },
    {
     "name": "stdout",
     "output_type": "stream",
     "text": [
      "C:\\Users\\noton\\miniconda3\\envs\\adapt1\\lib\\site-packages\\numpy\\core\\fromnumeric.py:86: RuntimeWarning: overflow encountered in reduce\n",
      "  return ufunc.reduce(obj, axis, dtype, out, **passkwargs)\n",
      "C:\\Users\\noton\\miniconda3\\envs\\adapt1\\lib\\site-packages\\numpy\\core\\fromnumeric.py:86: RuntimeWarning: overflow encountered in reduce\n",
      "  return ufunc.reduce(obj, axis, dtype, out, **passkwargs)\n",
      "C:\\Users\\noton\\miniconda3\\envs\\adapt1\\lib\\site-packages\\numpy\\core\\fromnumeric.py:86: RuntimeWarning: overflow encountered in reduce\n",
      "  return ufunc.reduce(obj, axis, dtype, out, **passkwargs)\n"
     ]
    },
    {
     "name": "stderr",
     "output_type": "stream",
     "text": [
      "  0%|▎                                                                              | 98/25872 [00:16<55:12,  7.78it/s]"
     ]
    },
    {
     "name": "stdout",
     "output_type": "stream",
     "text": [
      "C:\\Users\\noton\\miniconda3\\envs\\adapt1\\lib\\site-packages\\numpy\\core\\fromnumeric.py:86: RuntimeWarning: overflow encountered in reduce\n",
      "  return ufunc.reduce(obj, axis, dtype, out, **passkwargs)\n",
      "C:\\Users\\noton\\miniconda3\\envs\\adapt1\\lib\\site-packages\\numpy\\core\\fromnumeric.py:86: RuntimeWarning: overflow encountered in reduce\n",
      "  return ufunc.reduce(obj, axis, dtype, out, **passkwargs)\n"
     ]
    },
    {
     "name": "stderr",
     "output_type": "stream",
     "text": [
      "  1%|▌                                                                             | 189/25872 [00:22<25:43, 16.64it/s]"
     ]
    },
    {
     "name": "stdout",
     "output_type": "stream",
     "text": [
      "C:\\Users\\noton\\miniconda3\\envs\\adapt1\\lib\\site-packages\\numpy\\core\\fromnumeric.py:86: RuntimeWarning: overflow encountered in reduce\n",
      "  return ufunc.reduce(obj, axis, dtype, out, **passkwargs)\n"
     ]
    },
    {
     "name": "stderr",
     "output_type": "stream",
     "text": [
      "  1%|▊                                                                             | 250/25872 [00:29<38:00, 11.23it/s]"
     ]
    },
    {
     "name": "stdout",
     "output_type": "stream",
     "text": [
      "C:\\Users\\noton\\miniconda3\\envs\\adapt1\\lib\\site-packages\\numpy\\core\\fromnumeric.py:86: RuntimeWarning: overflow encountered in reduce\n",
      "  return ufunc.reduce(obj, axis, dtype, out, **passkwargs)\n"
     ]
    },
    {
     "name": "stderr",
     "output_type": "stream",
     "text": [
      "  1%|▊                                                                             | 271/25872 [00:31<45:09,  9.45it/s]"
     ]
    },
    {
     "name": "stdout",
     "output_type": "stream",
     "text": [
      "C:\\Users\\noton\\miniconda3\\envs\\adapt1\\lib\\site-packages\\numpy\\core\\fromnumeric.py:86: RuntimeWarning: overflow encountered in reduce\n",
      "  return ufunc.reduce(obj, axis, dtype, out, **passkwargs)\n"
     ]
    },
    {
     "name": "stderr",
     "output_type": "stream",
     "text": [
      "  1%|▊                                                                             | 288/25872 [00:33<51:52,  8.22it/s]"
     ]
    },
    {
     "name": "stdout",
     "output_type": "stream",
     "text": [
      "C:\\Users\\noton\\miniconda3\\envs\\adapt1\\lib\\site-packages\\numpy\\core\\fromnumeric.py:86: RuntimeWarning: overflow encountered in reduce\n",
      "  return ufunc.reduce(obj, axis, dtype, out, **passkwargs)\n"
     ]
    },
    {
     "name": "stderr",
     "output_type": "stream",
     "text": [
      "100%|████████████████████████████████████████████████████████████████████████████| 25872/25872 [47:56<00:00,  8.99it/s]\n"
     ]
    },
    {
     "data": {
      "text/html": [
       "<div>\n",
       "<style scoped>\n",
       "    .dataframe tbody tr th:only-of-type {\n",
       "        vertical-align: middle;\n",
       "    }\n",
       "\n",
       "    .dataframe tbody tr th {\n",
       "        vertical-align: top;\n",
       "    }\n",
       "\n",
       "    .dataframe thead th {\n",
       "        text-align: right;\n",
       "    }\n",
       "</style>\n",
       "<table border=\"1\" class=\"dataframe\">\n",
       "  <thead>\n",
       "    <tr style=\"text-align: right;\">\n",
       "      <th></th>\n",
       "      <th>ABC</th>\n",
       "      <th>ABCGG</th>\n",
       "      <th>nAcid</th>\n",
       "      <th>nBase</th>\n",
       "      <th>SpAbs_A</th>\n",
       "      <th>SpMax_A</th>\n",
       "      <th>SpDiam_A</th>\n",
       "      <th>SpAD_A</th>\n",
       "      <th>SpMAD_A</th>\n",
       "      <th>LogEE_A</th>\n",
       "      <th>...</th>\n",
       "      <th>SRW10</th>\n",
       "      <th>TSRW10</th>\n",
       "      <th>MW</th>\n",
       "      <th>AMW</th>\n",
       "      <th>WPath</th>\n",
       "      <th>WPol</th>\n",
       "      <th>Zagreb1</th>\n",
       "      <th>Zagreb2</th>\n",
       "      <th>mZagreb1</th>\n",
       "      <th>mZagreb2</th>\n",
       "    </tr>\n",
       "  </thead>\n",
       "  <tbody>\n",
       "    <tr>\n",
       "      <th>0</th>\n",
       "      <td>12.784941</td>\n",
       "      <td>11.306906</td>\n",
       "      <td>0.0</td>\n",
       "      <td>0.0</td>\n",
       "      <td>21.099587</td>\n",
       "      <td>2.465486</td>\n",
       "      <td>4.800181</td>\n",
       "      <td>21.099587</td>\n",
       "      <td>1.318724</td>\n",
       "      <td>3.738438</td>\n",
       "      <td>...</td>\n",
       "      <td>9.754233</td>\n",
       "      <td>64.677355</td>\n",
       "      <td>230.014998</td>\n",
       "      <td>10.455227</td>\n",
       "      <td>418.0</td>\n",
       "      <td>23.0</td>\n",
       "      <td>88.0</td>\n",
       "      <td>106.0</td>\n",
       "      <td>4.666667</td>\n",
       "      <td>3.444444</td>\n",
       "    </tr>\n",
       "    <tr>\n",
       "      <th>1</th>\n",
       "      <td>9.607534</td>\n",
       "      <td>8.765714</td>\n",
       "      <td>0.0</td>\n",
       "      <td>1.0</td>\n",
       "      <td>15.185460</td>\n",
       "      <td>2.321935</td>\n",
       "      <td>4.643870</td>\n",
       "      <td>15.185460</td>\n",
       "      <td>1.168112</td>\n",
       "      <td>3.457903</td>\n",
       "      <td>...</td>\n",
       "      <td>9.278653</td>\n",
       "      <td>43.923001</td>\n",
       "      <td>199.066700</td>\n",
       "      <td>7.656412</td>\n",
       "      <td>262.0</td>\n",
       "      <td>16.0</td>\n",
       "      <td>62.0</td>\n",
       "      <td>68.0</td>\n",
       "      <td>5.784722</td>\n",
       "      <td>2.916667</td>\n",
       "    </tr>\n",
       "    <tr>\n",
       "      <th>2</th>\n",
       "      <td>20.849242</td>\n",
       "      <td>16.631104</td>\n",
       "      <td>0.0</td>\n",
       "      <td>0.0</td>\n",
       "      <td>34.706954</td>\n",
       "      <td>2.575194</td>\n",
       "      <td>5.044330</td>\n",
       "      <td>34.706954</td>\n",
       "      <td>1.388278</td>\n",
       "      <td>4.221171</td>\n",
       "      <td>...</td>\n",
       "      <td>10.485731</td>\n",
       "      <td>77.987666</td>\n",
       "      <td>374.000611</td>\n",
       "      <td>10.685732</td>\n",
       "      <td>1295.0</td>\n",
       "      <td>45.0</td>\n",
       "      <td>150.0</td>\n",
       "      <td>189.0</td>\n",
       "      <td>4.861111</td>\n",
       "      <td>5.250000</td>\n",
       "    </tr>\n",
       "    <tr>\n",
       "      <th>3</th>\n",
       "      <td>25.011003</td>\n",
       "      <td>19.555614</td>\n",
       "      <td>0.0</td>\n",
       "      <td>0.0</td>\n",
       "      <td>41.657614</td>\n",
       "      <td>2.593815</td>\n",
       "      <td>5.073291</td>\n",
       "      <td>41.657614</td>\n",
       "      <td>1.388587</td>\n",
       "      <td>4.401414</td>\n",
       "      <td>...</td>\n",
       "      <td>10.653086</td>\n",
       "      <td>84.662224</td>\n",
       "      <td>458.999231</td>\n",
       "      <td>10.674401</td>\n",
       "      <td>2180.0</td>\n",
       "      <td>54.0</td>\n",
       "      <td>180.0</td>\n",
       "      <td>227.0</td>\n",
       "      <td>5.833333</td>\n",
       "      <td>6.305556</td>\n",
       "    </tr>\n",
       "    <tr>\n",
       "      <th>4</th>\n",
       "      <td>26.682387</td>\n",
       "      <td>19.363781</td>\n",
       "      <td>0.0</td>\n",
       "      <td>0.0</td>\n",
       "      <td>45.470608</td>\n",
       "      <td>2.521928</td>\n",
       "      <td>5.029415</td>\n",
       "      <td>45.470608</td>\n",
       "      <td>1.377897</td>\n",
       "      <td>4.461703</td>\n",
       "      <td>...</td>\n",
       "      <td>10.656247</td>\n",
       "      <td>84.190602</td>\n",
       "      <td>444.127917</td>\n",
       "      <td>8.224591</td>\n",
       "      <td>3115.0</td>\n",
       "      <td>60.0</td>\n",
       "      <td>186.0</td>\n",
       "      <td>228.0</td>\n",
       "      <td>7.562500</td>\n",
       "      <td>7.111111</td>\n",
       "    </tr>\n",
       "    <tr>\n",
       "      <th>...</th>\n",
       "      <td>...</td>\n",
       "      <td>...</td>\n",
       "      <td>...</td>\n",
       "      <td>...</td>\n",
       "      <td>...</td>\n",
       "      <td>...</td>\n",
       "      <td>...</td>\n",
       "      <td>...</td>\n",
       "      <td>...</td>\n",
       "      <td>...</td>\n",
       "      <td>...</td>\n",
       "      <td>...</td>\n",
       "      <td>...</td>\n",
       "      <td>...</td>\n",
       "      <td>...</td>\n",
       "      <td>...</td>\n",
       "      <td>...</td>\n",
       "      <td>...</td>\n",
       "      <td>...</td>\n",
       "      <td>...</td>\n",
       "      <td>...</td>\n",
       "    </tr>\n",
       "    <tr>\n",
       "      <th>25867</th>\n",
       "      <td>54.897124</td>\n",
       "      <td>38.666048</td>\n",
       "      <td>0.0</td>\n",
       "      <td>0.0</td>\n",
       "      <td>89.900110</td>\n",
       "      <td>2.634022</td>\n",
       "      <td>5.254399</td>\n",
       "      <td>89.900110</td>\n",
       "      <td>1.341793</td>\n",
       "      <td>5.178760</td>\n",
       "      <td>...</td>\n",
       "      <td>11.505669</td>\n",
       "      <td>125.038251</td>\n",
       "      <td>865.364703</td>\n",
       "      <td>7.726471</td>\n",
       "      <td>18967.0</td>\n",
       "      <td>138.0</td>\n",
       "      <td>394.0</td>\n",
       "      <td>496.0</td>\n",
       "      <td>18.583333</td>\n",
       "      <td>14.111111</td>\n",
       "    </tr>\n",
       "    <tr>\n",
       "      <th>25868</th>\n",
       "      <td>59.547212</td>\n",
       "      <td>40.973357</td>\n",
       "      <td>0.0</td>\n",
       "      <td>0.0</td>\n",
       "      <td>97.851356</td>\n",
       "      <td>2.651211</td>\n",
       "      <td>5.293149</td>\n",
       "      <td>97.851356</td>\n",
       "      <td>1.359047</td>\n",
       "      <td>5.259799</td>\n",
       "      <td>...</td>\n",
       "      <td>11.600304</td>\n",
       "      <td>131.339531</td>\n",
       "      <td>925.401089</td>\n",
       "      <td>7.647943</td>\n",
       "      <td>21002.0</td>\n",
       "      <td>149.0</td>\n",
       "      <td>430.0</td>\n",
       "      <td>544.0</td>\n",
       "      <td>18.055556</td>\n",
       "      <td>15.083333</td>\n",
       "    </tr>\n",
       "    <tr>\n",
       "      <th>25869</th>\n",
       "      <td>35.869542</td>\n",
       "      <td>26.055696</td>\n",
       "      <td>0.0</td>\n",
       "      <td>0.0</td>\n",
       "      <td>59.185475</td>\n",
       "      <td>2.611216</td>\n",
       "      <td>5.207937</td>\n",
       "      <td>59.185475</td>\n",
       "      <td>1.345124</td>\n",
       "      <td>4.758445</td>\n",
       "      <td>...</td>\n",
       "      <td>11.133172</td>\n",
       "      <td>97.378661</td>\n",
       "      <td>564.243191</td>\n",
       "      <td>7.624908</td>\n",
       "      <td>6052.0</td>\n",
       "      <td>94.0</td>\n",
       "      <td>258.0</td>\n",
       "      <td>327.0</td>\n",
       "      <td>12.722222</td>\n",
       "      <td>9.333333</td>\n",
       "    </tr>\n",
       "    <tr>\n",
       "      <th>25870</th>\n",
       "      <td>45.285358</td>\n",
       "      <td>33.986476</td>\n",
       "      <td>0.0</td>\n",
       "      <td>0.0</td>\n",
       "      <td>74.086616</td>\n",
       "      <td>2.637793</td>\n",
       "      <td>5.250800</td>\n",
       "      <td>74.086616</td>\n",
       "      <td>1.322975</td>\n",
       "      <td>4.990565</td>\n",
       "      <td>...</td>\n",
       "      <td>11.380867</td>\n",
       "      <td>110.609564</td>\n",
       "      <td>743.295402</td>\n",
       "      <td>8.079298</td>\n",
       "      <td>10591.0</td>\n",
       "      <td>123.0</td>\n",
       "      <td>326.0</td>\n",
       "      <td>414.0</td>\n",
       "      <td>18.500000</td>\n",
       "      <td>11.888889</td>\n",
       "    </tr>\n",
       "    <tr>\n",
       "      <th>25871</th>\n",
       "      <td>52.413445</td>\n",
       "      <td>39.143249</td>\n",
       "      <td>0.0</td>\n",
       "      <td>0.0</td>\n",
       "      <td>85.704764</td>\n",
       "      <td>2.663505</td>\n",
       "      <td>5.300318</td>\n",
       "      <td>85.704764</td>\n",
       "      <td>1.318535</td>\n",
       "      <td>5.135526</td>\n",
       "      <td>...</td>\n",
       "      <td>11.514414</td>\n",
       "      <td>120.301715</td>\n",
       "      <td>862.368901</td>\n",
       "      <td>7.839717</td>\n",
       "      <td>15099.0</td>\n",
       "      <td>142.0</td>\n",
       "      <td>376.0</td>\n",
       "      <td>476.0</td>\n",
       "      <td>21.694444</td>\n",
       "      <td>13.833333</td>\n",
       "    </tr>\n",
       "  </tbody>\n",
       "</table>\n",
       "<p>25872 rows × 1613 columns</p>\n",
       "</div>"
      ],
      "text/plain": [
       "             ABC      ABCGG  nAcid  nBase    SpAbs_A   SpMax_A  SpDiam_A  \\\n",
       "0      12.784941  11.306906    0.0    0.0  21.099587  2.465486  4.800181   \n",
       "1       9.607534   8.765714    0.0    1.0  15.185460  2.321935  4.643870   \n",
       "2      20.849242  16.631104    0.0    0.0  34.706954  2.575194  5.044330   \n",
       "3      25.011003  19.555614    0.0    0.0  41.657614  2.593815  5.073291   \n",
       "4      26.682387  19.363781    0.0    0.0  45.470608  2.521928  5.029415   \n",
       "...          ...        ...    ...    ...        ...       ...       ...   \n",
       "25867  54.897124  38.666048    0.0    0.0  89.900110  2.634022  5.254399   \n",
       "25868  59.547212  40.973357    0.0    0.0  97.851356  2.651211  5.293149   \n",
       "25869  35.869542  26.055696    0.0    0.0  59.185475  2.611216  5.207937   \n",
       "25870  45.285358  33.986476    0.0    0.0  74.086616  2.637793  5.250800   \n",
       "25871  52.413445  39.143249    0.0    0.0  85.704764  2.663505  5.300318   \n",
       "\n",
       "          SpAD_A   SpMAD_A   LogEE_A  ...      SRW10      TSRW10          MW  \\\n",
       "0      21.099587  1.318724  3.738438  ...   9.754233   64.677355  230.014998   \n",
       "1      15.185460  1.168112  3.457903  ...   9.278653   43.923001  199.066700   \n",
       "2      34.706954  1.388278  4.221171  ...  10.485731   77.987666  374.000611   \n",
       "3      41.657614  1.388587  4.401414  ...  10.653086   84.662224  458.999231   \n",
       "4      45.470608  1.377897  4.461703  ...  10.656247   84.190602  444.127917   \n",
       "...          ...       ...       ...  ...        ...         ...         ...   \n",
       "25867  89.900110  1.341793  5.178760  ...  11.505669  125.038251  865.364703   \n",
       "25868  97.851356  1.359047  5.259799  ...  11.600304  131.339531  925.401089   \n",
       "25869  59.185475  1.345124  4.758445  ...  11.133172   97.378661  564.243191   \n",
       "25870  74.086616  1.322975  4.990565  ...  11.380867  110.609564  743.295402   \n",
       "25871  85.704764  1.318535  5.135526  ...  11.514414  120.301715  862.368901   \n",
       "\n",
       "             AMW    WPath   WPol  Zagreb1  Zagreb2   mZagreb1   mZagreb2  \n",
       "0      10.455227    418.0   23.0     88.0    106.0   4.666667   3.444444  \n",
       "1       7.656412    262.0   16.0     62.0     68.0   5.784722   2.916667  \n",
       "2      10.685732   1295.0   45.0    150.0    189.0   4.861111   5.250000  \n",
       "3      10.674401   2180.0   54.0    180.0    227.0   5.833333   6.305556  \n",
       "4       8.224591   3115.0   60.0    186.0    228.0   7.562500   7.111111  \n",
       "...          ...      ...    ...      ...      ...        ...        ...  \n",
       "25867   7.726471  18967.0  138.0    394.0    496.0  18.583333  14.111111  \n",
       "25868   7.647943  21002.0  149.0    430.0    544.0  18.055556  15.083333  \n",
       "25869   7.624908   6052.0   94.0    258.0    327.0  12.722222   9.333333  \n",
       "25870   8.079298  10591.0  123.0    326.0    414.0  18.500000  11.888889  \n",
       "25871   7.839717  15099.0  142.0    376.0    476.0  21.694444  13.833333  \n",
       "\n",
       "[25872 rows x 1613 columns]"
      ]
     },
     "execution_count": 4,
     "metadata": {},
     "output_type": "execute_result"
    }
   ],
   "source": [
    "data['Mol'] = data['SMILES'].apply(Chem.MolFromSmiles)\n",
    "calc_mordred = Calculator(descriptors, ignore_3D=True)\n",
    "desc_mordred = calc_mordred.pandas(data['Mol'])\n",
    "mordred = desc_mordred.astype(str)\n",
    "masks = mordred.apply(lambda d: d.str.contains('[a-zA-Z]' ,na=False))\n",
    "mordred = mordred[~masks]\n",
    "mordred = mordred.astype(float)\n",
    "\n",
    "mordred"
   ]
  },
  {
   "cell_type": "code",
   "execution_count": 5,
   "id": "19364cd5",
   "metadata": {},
   "outputs": [],
   "source": [
    "mordred.to_csv('result/mordred_ai.csv', index=False)"
   ]
  },
  {
   "cell_type": "code",
   "execution_count": null,
   "id": "da8e582d",
   "metadata": {},
   "outputs": [],
   "source": []
  }
 ],
 "metadata": {
  "kernelspec": {
   "display_name": "Python 3 (ipykernel)",
   "language": "python",
   "name": "python3"
  },
  "language_info": {
   "codemirror_mode": {
    "name": "ipython",
    "version": 3
   },
   "file_extension": ".py",
   "mimetype": "text/x-python",
   "name": "python",
   "nbconvert_exporter": "python",
   "pygments_lexer": "ipython3",
   "version": "3.7.16"
  }
 },
 "nbformat": 4,
 "nbformat_minor": 5
}

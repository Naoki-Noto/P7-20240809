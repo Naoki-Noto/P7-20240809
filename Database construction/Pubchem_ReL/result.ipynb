{
 "cells": [
  {
   "cell_type": "code",
   "execution_count": 1,
   "id": "8759fb82",
   "metadata": {},
   "outputs": [],
   "source": [
    "import pandas as pd"
   ]
  },
  {
   "cell_type": "code",
   "execution_count": 2,
   "id": "033269e5",
   "metadata": {},
   "outputs": [],
   "source": [
    "def analyze_column(df, column_name):\n",
    "    empty_count = df[column_name].isna().sum() + (df[column_name].astype(str).str.strip() == \"\").sum()\n",
    "    filled_count = len(df) - empty_count\n",
    "    \n",
    "    empty_percentage = (empty_count / len(df)) * 100\n",
    "    filled_percentage = (filled_count / len(df)) * 100\n",
    "    \n",
    "    print(f\"Number of compounds not found: {empty_count}\")\n",
    "    print(f\"Number of compounds found: {filled_count}\")\n",
    "    print(f\"Percentage of compounds not found: {empty_percentage:.1f}%\")"
   ]
  },
  {
   "cell_type": "code",
   "execution_count": 3,
   "id": "cc61c95e",
   "metadata": {},
   "outputs": [
    {
     "name": "stdout",
     "output_type": "stream",
     "text": [
      "real\n",
      "Number of compounds not found: 16\n",
      "Number of compounds found: 84\n",
      "Percentage of compounds not found: 16.0%\n"
     ]
    }
   ],
   "source": [
    "print('real')\n",
    "df_real = pd.read_csv('result/result_real.csv')\n",
    "analyze_column(df_real, 'CID')"
   ]
  },
  {
   "cell_type": "code",
   "execution_count": 4,
   "id": "695ecb94-c71d-47f4-af26-b67f0f3caf76",
   "metadata": {},
   "outputs": [
    {
     "name": "stdout",
     "output_type": "stream",
     "text": [
      "Database A\n",
      "Number of compounds not found: 24659\n",
      "Number of compounds found: 627\n",
      "Percentage of compounds not found: 97.5%\n"
     ]
    }
   ],
   "source": [
    "print('Database A')\n",
    "df_human = pd.read_csv('result/result_Human.csv')\n",
    "analyze_column(df_human, 'CID')"
   ]
  },
  {
   "cell_type": "code",
   "execution_count": 5,
   "id": "b4bf1bde-cf7e-41f3-9630-47a60f3ffba8",
   "metadata": {},
   "outputs": [
    {
     "name": "stdout",
     "output_type": "stream",
     "text": [
      "Database B\n",
      "Number of compounds not found: 23800\n",
      "Number of compounds found: 1486\n",
      "Percentage of compounds not found: 94.1%\n"
     ]
    }
   ],
   "source": [
    "print('Database B')\n",
    "df_random = pd.read_csv('result/result_Random.csv')\n",
    "analyze_column(df_random, 'CID')"
   ]
  },
  {
   "cell_type": "code",
   "execution_count": 6,
   "id": "e4815b29-e0d3-4e30-8016-4141e7712661",
   "metadata": {},
   "outputs": [
    {
     "name": "stdout",
     "output_type": "stream",
     "text": [
      "Database C\n",
      "Number of compounds not found: 25025\n",
      "Number of compounds found: 261\n",
      "Percentage of compounds not found: 99.0%\n"
     ]
    }
   ],
   "source": [
    "print('Database C')\n",
    "df_ai2 = pd.read_csv('result/result_AI2.csv')\n",
    "analyze_column(df_ai2, 'CID')"
   ]
  },
  {
   "cell_type": "code",
   "execution_count": 7,
   "id": "0b4cc1f2-368d-4965-b890-a3d0c76f29ac",
   "metadata": {},
   "outputs": [
    {
     "name": "stdout",
     "output_type": "stream",
     "text": [
      "Database D\n",
      "Number of compounds not found: 24426\n",
      "Number of compounds found: 860\n",
      "Percentage of compounds not found: 96.6%\n"
     ]
    }
   ],
   "source": [
    "print('Database D')\n",
    "df_ai = pd.read_csv('result/result_AI.csv')\n",
    "analyze_column(df_ai, 'CID')"
   ]
  },
  {
   "cell_type": "code",
   "execution_count": null,
   "id": "da110ba5-c7da-492e-9e7c-e26628a60996",
   "metadata": {},
   "outputs": [],
   "source": []
  }
 ],
 "metadata": {
  "kernelspec": {
   "display_name": "Python 3 (ipykernel)",
   "language": "python",
   "name": "python3"
  },
  "language_info": {
   "codemirror_mode": {
    "name": "ipython",
    "version": 3
   },
   "file_extension": ".py",
   "mimetype": "text/x-python",
   "name": "python",
   "nbconvert_exporter": "python",
   "pygments_lexer": "ipython3",
   "version": "3.10.14"
  }
 },
 "nbformat": 4,
 "nbformat_minor": 5
}

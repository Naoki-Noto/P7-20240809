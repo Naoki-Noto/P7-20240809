{
 "cells": [
  {
   "cell_type": "code",
   "execution_count": 1,
   "id": "8759fb82",
   "metadata": {},
   "outputs": [],
   "source": [
    "import pandas as pd\n",
    "import pubchempy as pcp\n",
    "from datetime import datetime"
   ]
  },
  {
   "cell_type": "code",
   "execution_count": 2,
   "id": "033269e5",
   "metadata": {},
   "outputs": [],
   "source": [
    "def get_compound_info(smiles):\n",
    "    try:\n",
    "        compound = pcp.get_compounds(smiles, namespace='smiles')\n",
    "        \n",
    "        if not compound:\n",
    "            return {\"compoud name\": \"not found\", \"CID\": None, \"molecular formula\": None, \"molecular weight\": None, \"Canonical SMILES\": None}\n",
    "\n",
    "        c = compound[0]\n",
    "        return {\n",
    "            \"compoud name\": c.iupac_name,\n",
    "            \"CID\": c.cid,\n",
    "            \"molecular formula\": c.molecular_formula,\n",
    "            \"molecular weight\": c.molecular_weight,\n",
    "            \"Canonical SMILES\": c.canonical_smiles\n",
    "        }\n",
    "    except Exception as e:\n",
    "        return {\"compoud name\": \"error\", \"CID\": None, \"molecular formula\": None, \"molecular weight\": None, \"Canonical SMILES\": None}"
   ]
  },
  {
   "cell_type": "code",
   "execution_count": 3,
   "id": "cc61c95e",
   "metadata": {},
   "outputs": [],
   "source": [
    "def process_csv(input_file, output_file):\n",
    "    df = pd.read_csv(input_file)\n",
    "\n",
    "    results = []\n",
    "    for smiles in df['SMILES']:\n",
    "        info = get_compound_info(smiles)\n",
    "        info[\"SMILES\"] = smiles\n",
    "        results.append(info)\n",
    "\n",
    "    results_df = pd.DataFrame(results)\n",
    "    results_df.to_csv(output_file, index=False)"
   ]
  },
  {
   "cell_type": "code",
   "execution_count": 4,
   "id": "695ecb94-c71d-47f4-af26-b67f0f3caf76",
   "metadata": {},
   "outputs": [],
   "source": [
    "input_file = \"data/data_Human.csv\"\n",
    "output_file = \"result/result_Human.csv\"\n",
    "process_csv(input_file, output_file)"
   ]
  },
  {
   "cell_type": "code",
   "execution_count": 5,
   "id": "be8b0cb2-c86d-4f69-8919-f76e1477703b",
   "metadata": {},
   "outputs": [
    {
     "name": "stdout",
     "output_type": "stream",
     "text": [
      "2025-05-16\n"
     ]
    }
   ],
   "source": [
    "print(datetime.now().strftime(\"%Y-%m-%d\"))"
   ]
  },
  {
   "cell_type": "code",
   "execution_count": null,
   "id": "b4bf1bde-cf7e-41f3-9630-47a60f3ffba8",
   "metadata": {},
   "outputs": [],
   "source": []
  }
 ],
 "metadata": {
  "kernelspec": {
   "display_name": "Python 3 (ipykernel)",
   "language": "python",
   "name": "python3"
  },
  "language_info": {
   "codemirror_mode": {
    "name": "ipython",
    "version": 3
   },
   "file_extension": ".py",
   "mimetype": "text/x-python",
   "name": "python",
   "nbconvert_exporter": "python",
   "pygments_lexer": "ipython3",
   "version": "3.10.14"
  }
 },
 "nbformat": 4,
 "nbformat_minor": 5
}
